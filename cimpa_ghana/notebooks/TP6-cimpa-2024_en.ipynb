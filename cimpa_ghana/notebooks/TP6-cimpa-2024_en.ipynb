{
 "cells": [
  {
   "cell_type": "markdown",
   "id": "4c26b3a4-1ddd-45c2-abd7-69f1fcbbf39c",
   "metadata": {
    "deletable": false,
    "editable": false,
    "nbgrader": {
     "cell_type": "markdown",
     "checksum": "7e6b4ee521b234342d1d06b09f62c0e8",
     "grade": false,
     "grade_id": "cell-0b3ba514e635440a",
     "locked": true,
     "schema_version": 3,
     "solution": false,
     "task": false
    }
   },
   "source": [
    "---\n",
    "\n",
    "# TP 6 : Optimization with constraints\n",
    "\n",
    "<b>Sorbonne University</b><br>\n",
    "Author : Marie Postel\n",
    "---\n",
    "$\n",
    "\\renewcommand{\\R}{\\mathbb{R}}\n",
    "\\newcommand{\\eps}{\\varepsilon}\n",
    "$\n"
   ]
  },
  {
   "cell_type": "markdown",
   "id": "1640c53d-fe9b-4ca9-b9a6-712b4be6d0cb",
   "metadata": {
    "deletable": false,
    "editable": false,
    "nbgrader": {
     "cell_type": "markdown",
     "checksum": "c6004ad184379a10a681d70ec5fe3b89",
     "grade": false,
     "grade_id": "cell-47b6dc18759ff41b",
     "locked": true,
     "schema_version": 3,
     "solution": false,
     "task": false
    }
   },
   "source": [
    "### In this notebook we illustrate the minimization of a quadratic function under linear constraints "
   ]
  },
  {
   "cell_type": "code",
   "execution_count": null,
   "id": "f62c3046-1768-4a25-8553-cfb447d1ee33",
   "metadata": {
    "deletable": false,
    "editable": false,
    "nbgrader": {
     "cell_type": "code",
     "checksum": "d6484b6467f36f94c1b34529cfe635dd",
     "grade": false,
     "grade_id": "cell-66d1026eaeae1e20",
     "locked": true,
     "schema_version": 3,
     "solution": false,
     "task": false
    }
   },
   "outputs": [],
   "source": [
    "import numpy as np\n",
    "from numpy import linalg\n",
    "import matplotlib.pyplot as plt\n"
   ]
  },
  {
   "cell_type": "code",
   "execution_count": null,
   "id": "01ab5134-c4c2-4818-bceb-3c1e88b3a342",
   "metadata": {
    "deletable": false,
    "editable": false,
    "nbgrader": {
     "cell_type": "code",
     "checksum": "16178af62849366efd659a4cedd73bab",
     "grade": false,
     "grade_id": "cell-118f27b7d98d57dd",
     "locked": true,
     "schema_version": 3,
     "solution": false,
     "task": false
    }
   },
   "outputs": [],
   "source": [
    "A=np.array([[6,-3],[-3,10]])\n",
    "C=np.array([1,1])"
   ]
  },
  {
   "cell_type": "code",
   "execution_count": null,
   "id": "931530d5-314a-4fbc-afd2-103dfafac428",
   "metadata": {
    "deletable": false,
    "editable": false,
    "nbgrader": {
     "cell_type": "code",
     "checksum": "646921346baacf9fcef06510b3e0243b",
     "grade": false,
     "grade_id": "cell-d303854037c20c99",
     "locked": true,
     "schema_version": 3,
     "solution": false,
     "task": false
    }
   },
   "outputs": [],
   "source": [
    "def f(x):\n",
    "    return 0.5*A.dot(x).dot(x)\n"
   ]
  },
  {
   "cell_type": "code",
   "execution_count": null,
   "id": "8a6d6cc1-43d9-4577-81e7-49ab890dd9c2",
   "metadata": {
    "deletable": false,
    "editable": false,
    "nbgrader": {
     "cell_type": "code",
     "checksum": "5d182082de8ccd72e6718fbeb91f80ed",
     "grade": false,
     "grade_id": "cell-ab4f92698f282939",
     "locked": true,
     "schema_version": 3,
     "solution": false,
     "task": false
    }
   },
   "outputs": [],
   "source": [
    "# Graphique\n",
    "xx = np.linspace(-1,1,200)\n",
    "yy = np.linspace(-1,1,200)\n",
    "xx,yy = np.meshgrid(xx,yy)\n",
    "zz = np.zeros(xx.shape)\n",
    "for i in range(xx.shape[0]):\n",
    "    for j in range(xx.shape[1]):\n",
    "        zz[i,j] = f(np.array([xx[i,j],yy[i,j]]))\n",
    "        \n",
    "plt.figure(figsize=[10,10])\n",
    "plt.title(\"Level curves of  $f$\")\n",
    "plt.xlabel(\"$x$\")\n",
    "plt.ylabel(\"$y$\")\n",
    "\n",
    "# Tracé de f\n",
    "plt.contourf(xx,yy,zz,levels=30)\n",
    "xc=np.array([-1,1])\n",
    "yc=(1-xc*C[0])/C[1]\n",
    "plt.plot(xc,yc,'-w')\n",
    "plt.colorbar()\n",
    "plt.ylim([-1,1])\n",
    "# fill  here with your code\n"
   ]
  },
  {
   "cell_type": "markdown",
   "id": "51192ee5-8246-4362-b3ce-c19b22a07d32",
   "metadata": {
    "deletable": false,
    "editable": false,
    "nbgrader": {
     "cell_type": "markdown",
     "checksum": "08be3a09fca8f37e8b316377af5ae67e",
     "grade": false,
     "grade_id": "cell-dbf2788d2ba9a9c0",
     "locked": true,
     "schema_version": 3,
     "solution": false,
     "task": false
    }
   },
   "source": [
    "### Question 1 : Computer the solution of the constrained problem\n",
    "$\\inf_{C(x)=0} f(x)$  with $f(x)=\\dfrac{1}{2}Ax\\cdot x$ and $C(x)=C\\cdot x-1$"
   ]
  },
  {
   "cell_type": "markdown",
   "id": "bed37f3f-f985-4961-bf21-1bf38196ef6e",
   "metadata": {
    "deletable": false,
    "nbgrader": {
     "cell_type": "markdown",
     "checksum": "6ae7a935201e5e6abeb93884c8a88c33",
     "grade": true,
     "grade_id": "cell-e61ad9a331483220",
     "locked": false,
     "points": 1,
     "schema_version": 3,
     "solution": true,
     "task": false
    }
   },
   "source": [
    "#### double click here then answer in text  or LaTeX or markdown format"
   ]
  },
  {
   "cell_type": "markdown",
   "id": "1a9c2e8f-61b6-48ae-a1d9-d5fedd1fa51b",
   "metadata": {
    "deletable": false,
    "editable": false,
    "nbgrader": {
     "cell_type": "markdown",
     "checksum": "a90c45747e1c4469cee9af0a42c9f445",
     "grade": false,
     "grade_id": "cell-c3ebfb8e00710238",
     "locked": true,
     "schema_version": 3,
     "solution": false,
     "task": false
    }
   },
   "source": [
    "Question 2 : Compute the solution with numpy.linalg.solve"
   ]
  },
  {
   "cell_type": "code",
   "execution_count": null,
   "id": "b01d08c6-c9cd-471f-a9a6-59d296984363",
   "metadata": {
    "deletable": false,
    "nbgrader": {
     "cell_type": "code",
     "checksum": "3c369018aa61fcff2ec2fb918fb9fdb0",
     "grade": true,
     "grade_id": "cell-8fe6e451d3e6e721",
     "locked": false,
     "points": 1,
     "schema_version": 3,
     "solution": true,
     "task": false
    }
   },
   "outputs": [],
   "source": [
    "# fill  here with your code"
   ]
  },
  {
   "cell_type": "markdown",
   "id": "397eae50-45b6-4367-85af-e2f4eecfe806",
   "metadata": {
    "deletable": false,
    "editable": false,
    "nbgrader": {
     "cell_type": "markdown",
     "checksum": "14bd3124cf767908133221425b92c1d6",
     "grade": false,
     "grade_id": "cell-18f02a78ad5180ec",
     "locked": true,
     "schema_version": 3,
     "solution": false,
     "task": false
    }
   },
   "source": [
    "### Question 3 Draw the isovalues of $f$, the admissible set, and the solution $x^\\star$"
   ]
  },
  {
   "cell_type": "code",
   "execution_count": null,
   "id": "33df2585-0c4e-4d15-adc4-3ba0fde4f6a3",
   "metadata": {
    "deletable": false,
    "nbgrader": {
     "cell_type": "code",
     "checksum": "3c6322fdb3dc095966e71f193f31dea7",
     "grade": false,
     "grade_id": "cell-eb7cef65977cdc9c",
     "locked": false,
     "schema_version": 3,
     "solution": true,
     "task": false
    }
   },
   "outputs": [],
   "source": [
    "# Graphique\n",
    "xx = np.linspace(-1,1,200)\n",
    "yy = np.linspace(-1,1,200)\n",
    "xx,yy = np.meshgrid(xx,yy)\n",
    "zz = np.zeros(xx.shape)\n",
    "for i in range(xx.shape[0]):\n",
    "    for j in range(xx.shape[1]):\n",
    "        zz[i,j] = f(np.array([xx[i,j],yy[i,j]]))\n",
    "        \n",
    "plt.figure(figsize=[10,10])\n",
    "plt.title(\"Level curves of  $f$\")\n",
    "plt.xlabel(\"$x$\")\n",
    "plt.ylabel(\"$y$\")\n",
    "\n",
    "# Tracé de f\n",
    "plt.contourf(xx,yy,zz,levels=30)\n",
    "xc=np.array([-1,1])\n",
    "yc=(1-xc*C[0])/C[1]\n",
    "plt.plot(xc,yc,'-w')\n",
    "plt.colorbar()\n",
    "plt.ylim([-1,1])\n",
    "# fill  here with your code\n"
   ]
  },
  {
   "cell_type": "markdown",
   "id": "fa849073-d4ea-4b33-9627-f31e9f5779cf",
   "metadata": {
    "deletable": false,
    "editable": false,
    "nbgrader": {
     "cell_type": "markdown",
     "checksum": "7a7d873fa8c213891ca6ee43dfd8ccd0",
     "grade": false,
     "grade_id": "cell-64c282af24631d29",
     "locked": true,
     "schema_version": 3,
     "solution": false,
     "task": false
    }
   },
   "source": [
    "### Second case  : constrained  linear least square\n"
   ]
  },
  {
   "cell_type": "markdown",
   "id": "46d96b28-d8ba-4584-a258-e7f031f90447",
   "metadata": {
    "deletable": false,
    "editable": false,
    "nbgrader": {
     "cell_type": "markdown",
     "checksum": "b000f323ef12a1a78fd5b274381ef0df",
     "grade": false,
     "grade_id": "cell-d1f14e7574590c02",
     "locked": true,
     "schema_version": 3,
     "solution": false,
     "task": false
    }
   },
   "source": [
    "\n",
    "Let $A$ be a real matrix with $p$ rows and $n$ columns, of rank equal to $n$ (we assume $p>n$).\n",
    "Let $b\\in \\mathbb{R}^p$ and $x\\in\\mathbb{R}^n$. We  define $$f(x) = ||Ax-b||^2.\n",
    "$$\n",
    "\n",
    "#### Question 4\n",
    "<ol>\n",
    "<li> Recall  the expression of the minimum of  $f$  without constraints</li>\n",
    "</ol>"
   ]
  },
  {
   "cell_type": "markdown",
   "id": "a899a5c0-2357-4ab9-9c39-4c420d85b122",
   "metadata": {
    "deletable": false,
    "nbgrader": {
     "cell_type": "markdown",
     "checksum": "7d0f5696951b6d64b1f274babc2a5ed0",
     "grade": true,
     "grade_id": "cell-7db192cfd82bdb56",
     "locked": false,
     "points": 0,
     "schema_version": 3,
     "solution": true,
     "task": false
    }
   },
   "source": [
    "#### double click here then answer in text  or LaTeX or markdown format"
   ]
  },
  {
   "cell_type": "markdown",
   "id": "c45b66d3-b226-41da-86f8-b0597125b3e2",
   "metadata": {
    "deletable": false,
    "editable": false,
    "nbgrader": {
     "cell_type": "markdown",
     "checksum": "91c4c14e1c0287af1bd7c1189905e69c",
     "grade": false,
     "grade_id": "cell-c874c4aa257556fc",
     "locked": true,
     "schema_version": 3,
     "solution": false,
     "task": false
    }
   },
   "source": [
    "#### Question 5\n",
    "Define the following data in  numpy arrays\n",
    "$$A=\\begin{pmatrix}2  & 1 \\\\\n",
    "1& 2 \\\\\n",
    "0 & 1 \\\\\n",
    "1 & 0\\end{pmatrix},\\quad b=\\begin{pmatrix}1\\\\2\\\\3\\\\4\\end{pmatrix}.$$"
   ]
  },
  {
   "cell_type": "code",
   "execution_count": null,
   "id": "62bb93e0-4ec2-4a64-905f-477f2468c5ad",
   "metadata": {
    "deletable": false,
    "nbgrader": {
     "cell_type": "code",
     "checksum": "7e4fb4eab318a6ab6dd63787071d2c8d",
     "grade": true,
     "grade_id": "cell-8bc0e172e292d06b",
     "locked": false,
     "points": 0,
     "schema_version": 3,
     "solution": true,
     "task": false
    }
   },
   "outputs": [],
   "source": [
    "# fill  here with your code"
   ]
  },
  {
   "cell_type": "markdown",
   "id": "6dbe2a0f-9e35-45a0-8cf0-4d2ded4f442c",
   "metadata": {
    "deletable": false,
    "editable": false,
    "nbgrader": {
     "cell_type": "markdown",
     "checksum": "fbd0f83e5259d98933e0b815c863ee07",
     "grade": false,
     "grade_id": "cell-9f76984e4ef968ab",
     "locked": true,
     "schema_version": 3,
     "solution": false,
     "task": false
    }
   },
   "source": [
    "#### Question 6\n",
    "Compute the global minimum $xs$ of $f$ by solving a linear system"
   ]
  },
  {
   "cell_type": "code",
   "execution_count": null,
   "id": "92a67fbe-9e5b-4c53-a20f-a3870c3a829e",
   "metadata": {
    "deletable": false,
    "nbgrader": {
     "cell_type": "code",
     "checksum": "46e7e9148b7efe3d25781526b3e3a0b6",
     "grade": true,
     "grade_id": "cell-1d621af590e28180",
     "locked": false,
     "points": 0,
     "schema_version": 3,
     "solution": true,
     "task": false
    }
   },
   "outputs": [],
   "source": [
    "# fill  here with your code\n",
    "print(xs)"
   ]
  },
  {
   "cell_type": "code",
   "execution_count": null,
   "id": "bf1319f0-4568-4402-9576-f609aaa33303",
   "metadata": {
    "deletable": false,
    "nbgrader": {
     "cell_type": "code",
     "checksum": "d8dc4f418c5a5d114ceee23352a0756a",
     "grade": false,
     "grade_id": "cell-1b51bce7516fe64b",
     "locked": false,
     "schema_version": 3,
     "solution": true,
     "task": false
    }
   },
   "outputs": [],
   "source": [
    "# fill  here with your code"
   ]
  },
  {
   "cell_type": "markdown",
   "id": "9099e323-091d-4ae9-a4e8-169575d51b93",
   "metadata": {
    "deletable": false,
    "editable": false,
    "nbgrader": {
     "cell_type": "markdown",
     "checksum": "266b4a9a446e56ea9b03d37b5ae4ff10",
     "grade": false,
     "grade_id": "cell-9ae02f59cfd31261",
     "locked": true,
     "schema_version": 3,
     "solution": false,
     "task": false
    }
   },
   "source": [
    "#### Question 7\n",
    "Program the function  $f$ "
   ]
  },
  {
   "cell_type": "code",
   "execution_count": null,
   "id": "12f7ba0d-0f81-40f4-925d-4f3b35d20dbf",
   "metadata": {
    "deletable": false,
    "nbgrader": {
     "cell_type": "code",
     "checksum": "cc9e7eba540a37a3b21a8466ee6c5437",
     "grade": true,
     "grade_id": "cell-1b52d5c7262a616f",
     "locked": false,
     "points": 0,
     "schema_version": 3,
     "solution": true,
     "task": false
    }
   },
   "outputs": [],
   "source": [
    "# fill  here with your code"
   ]
  },
  {
   "cell_type": "markdown",
   "id": "b6b77783-b9b7-4934-b87d-b7d6c9aceae5",
   "metadata": {
    "deletable": false,
    "editable": false,
    "nbgrader": {
     "cell_type": "markdown",
     "checksum": "be56c46ad90fc9ca124e1cff04575260",
     "grade": false,
     "grade_id": "cell-b2713cbf49d9b057",
     "locked": true,
     "schema_version": 3,
     "solution": false,
     "task": false
    }
   },
   "source": [
    "#### Question 8\n",
    "Plot the contour lines of $f$ using the following code.\n",
    "Add the global minimum $xs$ with a red cross."
   ]
  },
  {
   "cell_type": "code",
   "execution_count": null,
   "id": "3f24ee22-9c14-46a5-ba35-67edc031cb20",
   "metadata": {
    "deletable": false,
    "nbgrader": {
     "cell_type": "code",
     "checksum": "f87c98af9fb67127b5dd3ddf7d1eaef8",
     "grade": true,
     "grade_id": "cell-e0a7dd244de55dfa",
     "locked": false,
     "points": 0,
     "schema_version": 3,
     "solution": true,
     "task": false
    }
   },
   "outputs": [],
   "source": [
    "# Graphique\n",
    "xx = np.linspace(-1,2.5,200)\n",
    "yy = np.linspace(-1,2,200)\n",
    "xx,yy = np.meshgrid(xx,yy)\n",
    "zz = np.zeros(xx.shape)\n",
    "for i in range(xx.shape[0]):\n",
    "    for j in range(xx.shape[1]):\n",
    "        zz[i,j] = f(np.array([xx[i,j],yy[i,j]]))\n",
    "        \n",
    "plt.figure(figsize=[10,10])\n",
    "plt.title(\"Level curves of  $f$\")\n",
    "plt.xlabel(\"$x$\")\n",
    "plt.ylabel(\"$y$\")\n",
    "\n",
    "# Tracé de f\n",
    "plt.contourf(xx,yy,zz,levels=30)\n",
    "plt.colorbar()\n",
    "# fill  here with your code\n"
   ]
  },
  {
   "cell_type": "markdown",
   "id": "70791d71-65a6-4f97-b3e5-52651e8971e6",
   "metadata": {
    "deletable": false,
    "editable": false,
    "nbgrader": {
     "cell_type": "markdown",
     "checksum": "67d3b79abd367410731546039fee6ac6",
     "grade": false,
     "grade_id": "cell-a4df8083a22167e4",
     "locked": true,
     "schema_version": 3,
     "solution": false,
     "task": false
    }
   },
   "source": [
    "#### Question 9\n",
    "For $c\\in \\mathbb{R}^n$ and $x\\in \\mathbb{R}^n$, consider the problem (P): Minimize $f(x)$\n",
    "subject to the constraint $c^Tx=0$.\n",
    "\n",
    "On paper:\n",
    "<ol>\n",
    "<li> Give the expression of the Lagrangian associated with (P).\n",
    "<li> Give the expression of the gradient of the Lagrangian associated with (P).\n",
    "<li> Write the optimality conditions using the theorem of constrained extrema.\n",
    "\n",
    "    Hint: first express $x^*$ in terms of $\\lambda^*$. \n",
    "    \n",
    "    Calculate $\\lambda^*$, then reinsert it into the expression of $x^*$.\n",
    "</ol>"
   ]
  },
  {
   "cell_type": "markdown",
   "id": "fbc98d95-e194-4df9-bc6c-e34ce0ecbe48",
   "metadata": {
    "deletable": false,
    "nbgrader": {
     "cell_type": "markdown",
     "checksum": "34fd19e7f0926155ce93a132c1a2825b",
     "grade": true,
     "grade_id": "cell-33900bbfe35df767",
     "locked": false,
     "points": 0,
     "schema_version": 3,
     "solution": true,
     "task": false
    }
   },
   "source": [
    "#### double click here then answer in text  or LaTeX or markdown format"
   ]
  },
  {
   "cell_type": "markdown",
   "id": "8ad697f0-7985-4f1b-a089-8f9b5ee3717c",
   "metadata": {
    "deletable": false,
    "editable": false,
    "nbgrader": {
     "cell_type": "markdown",
     "checksum": "827c9afaaee39af3ff9124f4353018f4",
     "grade": false,
     "grade_id": "cell-8869e276d5548b4d",
     "locked": true,
     "schema_version": 3,
     "solution": false,
     "task": false
    }
   },
   "source": [
    "#### Question 10\n",
    "For $$c=\\begin{pmatrix}1\\\\2\\end{pmatrix},$$ program the calculation of the minimum $x^*$ of $f$ subject to the constraint $c\\cdot x=0$. Display the values of $\\lambda^*$ and $x^*$.\n",
    "Exceptionally, if necessary, you can calculate the inverse of a matrix using the function $numpy.linalg.inv$."
   ]
  },
  {
   "cell_type": "code",
   "execution_count": null,
   "id": "a83019e7-bce6-45d8-8c4e-cea0999a8754",
   "metadata": {
    "deletable": false,
    "nbgrader": {
     "cell_type": "code",
     "checksum": "a56edc1b0a7b27a2a099cd1a5277c897",
     "grade": true,
     "grade_id": "cell-990186b72065e51d",
     "locked": false,
     "points": 0,
     "schema_version": 3,
     "solution": true,
     "task": false
    }
   },
   "outputs": [],
   "source": [
    "# fill  here with your code\n"
   ]
  },
  {
   "cell_type": "markdown",
   "id": "49bc346c-96b4-47ea-8fe0-dfdaacef190e",
   "metadata": {
    "deletable": false,
    "editable": false,
    "nbgrader": {
     "cell_type": "markdown",
     "checksum": "ee91de2e355eb0ee2b05b71dcffc6542",
     "grade": false,
     "grade_id": "cell-37e2d5376b842647",
     "locked": true,
     "schema_version": 3,
     "solution": false,
     "task": false
    }
   },
   "source": [
    "#### Question 11\n",
    "Duplicate the graph from question 5 and add to it:\n",
    "* $x^*$ with a yellow star.\n",
    "* the line with equation $c\\cdot x=0$ in white.\n"
   ]
  },
  {
   "cell_type": "code",
   "execution_count": null,
   "id": "f2d1a6f2-060f-45e6-accf-2a22a3983d31",
   "metadata": {
    "deletable": false,
    "nbgrader": {
     "cell_type": "code",
     "checksum": "d90e0348b47de4ef3d1b230f7b46cb8b",
     "grade": true,
     "grade_id": "cell-240f7d7bab2c0d85",
     "locked": false,
     "points": 0,
     "schema_version": 3,
     "solution": true,
     "task": false
    }
   },
   "outputs": [],
   "source": [
    "# fill  here with your code\n"
   ]
  },
  {
   "cell_type": "code",
   "execution_count": null,
   "id": "b0035d65-64d3-4654-b747-d879bcd3f500",
   "metadata": {},
   "outputs": [],
   "source": []
  },
  {
   "cell_type": "code",
   "execution_count": null,
   "id": "c72f1a67-7296-417f-9699-a18caae4d1e1",
   "metadata": {},
   "outputs": [],
   "source": []
  }
 ],
 "metadata": {
  "kernelspec": {
   "display_name": "Python 3 (ipykernel)",
   "language": "python",
   "name": "python3"
  },
  "language_info": {
   "codemirror_mode": {
    "name": "ipython",
    "version": 3
   },
   "file_extension": ".py",
   "mimetype": "text/x-python",
   "name": "python",
   "nbconvert_exporter": "python",
   "pygments_lexer": "ipython3",
   "version": "3.11.5"
  }
 },
 "nbformat": 4,
 "nbformat_minor": 5
}
