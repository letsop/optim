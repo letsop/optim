{
 "cells": [
  {
   "cell_type": "markdown",
   "metadata": {
    "deletable": false,
    "editable": false,
    "nbgrader": {
     "cell_type": "markdown",
     "checksum": "d2a6d7ee62a2e23a7ef5d0a1c88d1e2b",
     "grade": false,
     "grade_id": "cell-c6ddc3903dbf1a8a",
     "locked": true,
     "schema_version": 3,
     "solution": false,
     "task": false
    }
   },
   "source": [
    "---\n",
    "\n",
    "# TP 5 : Optimization  without constraints\n",
    "\n",
    "<b>Sorbonne University</b><br>\n",
    "Author : Marie Postel\n",
    "---\n",
    "$\n",
    "\\renewcommand{\\R}{\\mathbb{R}}\n",
    "\\newcommand{\\eps}{\\varepsilon}\n",
    "$\n"
   ]
  },
  {
   "cell_type": "code",
   "execution_count": null,
   "metadata": {
    "deletable": false,
    "editable": false,
    "nbgrader": {
     "cell_type": "code",
     "checksum": "95b583c809e46bd2d3dc44b5b05f55e1",
     "grade": false,
     "grade_id": "cell-081c7227b5d5509d",
     "locked": true,
     "schema_version": 3,
     "solution": false,
     "task": false
    }
   },
   "outputs": [],
   "source": [
    "import numpy as np\n",
    "from numpy import linalg\n",
    "import matplotlib.pyplot as plt"
   ]
  },
  {
   "cell_type": "markdown",
   "metadata": {
    "deletable": false,
    "editable": false,
    "nbgrader": {
     "cell_type": "markdown",
     "checksum": "33903b4a9b6ebf439f8ae2e78a8b54de",
     "grade": false,
     "grade_id": "cell-7e3dc19178b0eb9d",
     "locked": true,
     "schema_version": 3,
     "solution": false,
     "task": false
    }
   },
   "source": [
    "<a id=\"dim2\"></a>\n",
    "## Part 1: Where Are My Keys?\n",
    "\n",
    "We are interested in geolocating an object equipped with a GPS tag, whose position is pinpointed by a network of sensors that can transmit their distance to the tag.\n",
    "The simplified problem is then formulated as follows: in the plane, three sources are placed, as well as an object whose position is unknown.\n",
    "The GPS provides us with distances, tainted with errors, between each source and the object.\n",
    "The objective is to obtain a good approximation of the object's position in the plane, knowing the positions of the sources, the distances, and the errors.\n",
    "\n",
    "We denote $s_1$, $s_2$, and $s_3$ as the positions of the three sources in $\\mathbb{R}^2$, and $x^\\star \\in \\mathbb{R}^2$ as the position of the unknown object.\n",
    "The distances measured by the sources are denoted $d_1$, $d_2$, and $d_3$.\n",
    "It can be shown that $x^\\star$ minimizes the following function, defined on $\\mathbb{R}^2$,\n",
    "$$ \\tilde{J}(x) = -(\\|x-s_1\\| - d_1)^2+ (\\|x-s_2\\| - d_2)^2+ (\\|x-s_3\\| - d_3)^2. $$"
   ]
  },
  {
   "cell_type": "markdown",
   "metadata": {
    "deletable": false,
    "nbgrader": {
     "cell_type": "markdown",
     "checksum": "bc42a46c8a3537d14fed37656e4ffa58",
     "grade": true,
     "grade_id": "cell-6ca0e85a0e29ed16",
     "locked": false,
     "points": 1,
     "schema_version": 3,
     "solution": true,
     "task": false
    }
   },
   "source": [
    "#### Question 1\n",
    "First, we consider dimension 1, and we study the function $f: \\mathbb{R} \\rightarrow \\mathbb{R}$\n",
    "$$f(x)=(|x-s| - d)^2$$\n",
    "What problem do we encounter if we try to minimize $f$ using a method seen in class?\n",
    "\n",
    "#### double click here then answer in text  or LaTeX or markdown format"
   ]
  },
  {
   "cell_type": "markdown",
   "metadata": {
    "deletable": false,
    "editable": false,
    "nbgrader": {
     "cell_type": "markdown",
     "checksum": "a0cbee6b2f3c7618e834bc78220fe3bc",
     "grade": false,
     "grade_id": "cell-0b30f1621427c350",
     "locked": true,
     "schema_version": 3,
     "solution": false,
     "task": false
    }
   },
   "source": [
    "#### Question 2\n",
    "For $s=0$ and $d=1$, plot the graph of the function $f$ on the interval $[-2,2]$, as well as the graph of the function\n",
    "$$f_\\mu(x) = (\\sqrt{(x-s)^2 + \\mu} - d)^2$$ for $\\mu=0.1$, $0.01$, and $0.001$.\n",
    "We will discretize the study interval with 1000 points. There should be a single figure with 4 curves, labeled with a legend."
   ]
  },
  {
   "cell_type": "code",
   "execution_count": null,
   "metadata": {
    "deletable": false,
    "nbgrader": {
     "cell_type": "code",
     "checksum": "a6ab43b696b477eee4a7c4037a9059a1",
     "grade": true,
     "grade_id": "cell-6b7a945556df92ff",
     "locked": false,
     "points": 1,
     "schema_version": 3,
     "solution": true,
     "task": false
    }
   },
   "outputs": [],
   "source": [
    "# fill  here with your code\n",
    "    "
   ]
  },
  {
   "cell_type": "markdown",
   "metadata": {
    "deletable": false,
    "editable": false,
    "nbgrader": {
     "cell_type": "markdown",
     "checksum": "5a305c99ad2058abd0830cb62e4ace68",
     "grade": false,
     "grade_id": "cell-6b6e021bd8a9a5f3",
     "locked": true,
     "schema_version": 3,
     "solution": false,
     "task": false
    },
    "slideshow": {
     "slide_type": ""
    },
    "tags": []
   },
   "source": [
    "We return to our geolocation problem in the plane, which we now decide to approach by minimizing\n",
    "J(x)=(∥x−s1∥2+μ−d1)2+(∥x−s2∥2+μ−d2)2+(∥x−s3∥2+μ−d3)2,J(x)=(∥x−s1​∥2+μ\n",
    "​−d1​)2+(∥x−s2​∥2+μ\n",
    "​−d2​)2+(∥x−s3​∥2+μ\n",
    "\n",
    "​−d3​)2,\n",
    "using a gradient descent method.\n",
    "\n",
    "To simplify, we assume that all 3 sensors have the same margin of error.\n",
    "\n",
    "Here, $x$, $s_1$, $s_2$, and $s_3 \\in \\mathbb{R}^2$, so $J: \\mathbb{R}^2 \\rightarrow \\mathbb{R}$. Recall that $|v|^2=\\sum_{i=1}^2v_i^2$."
   ]
  },
  {
   "cell_type": "markdown",
   "metadata": {
    "deletable": false,
    "nbgrader": {
     "cell_type": "markdown",
     "checksum": "280e40eaa02ef2c6a8aaa5288f1c6b3c",
     "grade": true,
     "grade_id": "cell-eca5996b8b4160aa",
     "locked": false,
     "points": 1,
     "schema_version": 3,
     "solution": true,
     "task": false
    }
   },
   "source": [
    "Answer the following questions on the provided sheet: <br>\n",
    "What is the derivative of $y\\rightarrow \\sqrt{y}$, for $y\\in \\mathbb{R}^{+*}$? <br>\n",
    "For $x\\in\\mathbb{R}^2$, $s\\in\\mathbb{R}^2$, $d$, and $\\mu\\in\\mathbb{R}$, compute the gradients of the following functions: <br>\n",
    "$x\\rightarrow \\|x\\|^2 $ <br>\n",
    "$x\\rightarrow \\|x-s\\|^2 $ with $x\\in\\mathbb{R}^2$ <br>\n",
    "$x\\rightarrow \\sqrt{\\|x-s\\|^2+\\mu} $ with $x\\in\\mathbb{R}^2$ <br>\n",
    "$x\\rightarrow (\\sqrt{\\|x-s\\|^2+\\mu}-d)^2 $ with $x\\in\\mathbb{R}^2$ <br>\n",
    "\n",
    "\n",
    "#### double click here then answer in text  or LaTeX or markdown format"
   ]
  },
  {
   "cell_type": "markdown",
   "metadata": {
    "deletable": false,
    "editable": false,
    "nbgrader": {
     "cell_type": "markdown",
     "checksum": "307ca5a2e8fd4dc7f7aa3968e3cc8273",
     "grade": false,
     "grade_id": "cell-1fca37fd30802587",
     "locked": true,
     "schema_version": 3,
     "solution": false,
     "task": false
    }
   },
   "source": [
    "#### Question 3\n",
    "In the following cell, define the function $J(x)$ and its gradient $gJ(x)$. This function should return a numpy array of the same dimensions as $x$. Do not modify the given values for $\\mu$, $(s_i,d_i)_{i=1,2,3}$."
   ]
  },
  {
   "cell_type": "code",
   "execution_count": null,
   "metadata": {
    "deletable": false,
    "nbgrader": {
     "cell_type": "code",
     "checksum": "046f45aa5b629391aeccf89fbd24071e",
     "grade": true,
     "grade_id": "cell-613ce15bfc4f2a48",
     "locked": false,
     "points": 1,
     "schema_version": 3,
     "solution": true,
     "task": false
    }
   },
   "outputs": [],
   "source": [
    "mu=0.0001\n",
    "s1=np.array([-1,1])\n",
    "s2=np.array([2,1])\n",
    "s3=np.array([1,-3])\n",
    "d1,d2,d3=(1.4,2.3,3.)\n",
    "d1,d2,d3=(1.41,2.23,3.16)\n",
    "\n",
    "# fill  here with your code\n"
   ]
  },
  {
   "cell_type": "markdown",
   "metadata": {
    "deletable": false,
    "editable": false,
    "nbgrader": {
     "cell_type": "markdown",
     "checksum": "047119e06edb68bd2510a0594c49c5f0",
     "grade": false,
     "grade_id": "cell-e81da197aa2b3d01",
     "locked": true,
     "schema_version": 3,
     "solution": false,
     "task": false
    }
   },
   "source": [
    "Check your code by displaying the values of $J(x)$ and $gJ(x)$ for $x=\\begin{pmatrix}1\\\\2\\end{pmatrix}$.\n",
    "\n",
    "Note: There is nothing to add in the following two cells, just execute them. If they give an error, correct your functions $J$ and/or $gJ$."
   ]
  },
  {
   "cell_type": "code",
   "execution_count": null,
   "metadata": {
    "deletable": false,
    "editable": false,
    "nbgrader": {
     "cell_type": "code",
     "checksum": "849c9bda088381b63cc2bffa237226ec",
     "grade": true,
     "grade_id": "cell-bfa1b0a766877cff",
     "locked": true,
     "points": 1,
     "schema_version": 3,
     "solution": false,
     "task": false
    }
   },
   "outputs": [],
   "source": [
    "#### Question 4.1\n",
    "x=np.array([1,2])\n",
    "print(J(x))\n",
    "Jx=4.73351187568691\n",
    "assert J(x)==Jx, \"Your function J does not compute the right vakue\"\n"
   ]
  },
  {
   "cell_type": "code",
   "execution_count": null,
   "metadata": {
    "deletable": false,
    "editable": false,
    "nbgrader": {
     "cell_type": "code",
     "checksum": "b675e5b3338ee8b0022202d4ff4993db",
     "grade": true,
     "grade_id": "cell-5e30b0dd0d4bfef4",
     "locked": true,
     "points": 1,
     "schema_version": 3,
     "solution": false,
     "task": false
    }
   },
   "outputs": [],
   "source": [
    "#### Question 4.2\n",
    "print(gJ(x))\n",
    "gJx=np.array([2.63135795, 3.26526551])\n",
    "if not isinstance(gJ(x), np.ndarray):\n",
    "    print(\"your gJ(x) function does not return a numpy array\")\n",
    "assert len(gJ(x))==2, \"your gJ(x) function returns an array that does not have the same dimension as x\"\n",
    "assert np.linalg.norm(gJ(x)-gJx)<1.e-6 , \"your gJ function does not return the correct values\"\n"
   ]
  },
  {
   "cell_type": "markdown",
   "metadata": {
    "deletable": false,
    "editable": false,
    "nbgrader": {
     "cell_type": "markdown",
     "checksum": "bfbe148f7615d0c9932e3ff07e3739b0",
     "grade": false,
     "grade_id": "cell-4044d2cc43350850",
     "locked": true,
     "schema_version": 3,
     "solution": false,
     "task": false
    }
   },
   "source": [
    "#### Question 5\n",
    "In the following cell, minimize $J(x)$ using constant step size gradient descent.\n",
    "Display the solution, the gradient of the function at this point, and the number of iterations."
   ]
  },
  {
   "cell_type": "code",
   "execution_count": null,
   "metadata": {
    "deletable": false,
    "nbgrader": {
     "cell_type": "code",
     "checksum": "17962a2fff7fff240cf8c8b1901f2a62",
     "grade": true,
     "grade_id": "cell-4fd24327ae976721",
     "locked": false,
     "points": 1,
     "schema_version": 3,
     "solution": true,
     "task": false
    }
   },
   "outputs": [],
   "source": [
    "# fill  here with your code"
   ]
  },
  {
   "cell_type": "markdown",
   "metadata": {
    "deletable": false,
    "editable": false,
    "nbgrader": {
     "cell_type": "markdown",
     "checksum": "e2ab9060a7e5b2aaa025afcbc571d5f4",
     "grade": false,
     "grade_id": "cell-118c10b8d2b29cb6",
     "locked": true,
     "schema_version": 3,
     "solution": false,
     "task": false
    }
   },
   "source": [
    "#### Question 6\n",
    "Display on a graph the three sources $s_1$, $s_2$, and $s_3$ with blue circles and the found target $x^*$ with a red cross."
   ]
  },
  {
   "cell_type": "code",
   "execution_count": null,
   "metadata": {
    "deletable": false,
    "nbgrader": {
     "cell_type": "code",
     "checksum": "09392568408445fc39f0860f3605e3db",
     "grade": true,
     "grade_id": "cell-2c6bf3d1ec4425a9",
     "locked": false,
     "points": 1,
     "schema_version": 3,
     "solution": true,
     "task": false
    }
   },
   "outputs": [],
   "source": [
    "# fill  here with your code"
   ]
  }
 ],
 "metadata": {
  "kernelspec": {
   "display_name": "Python 3 (ipykernel)",
   "language": "python",
   "name": "python3"
  },
  "language_info": {
   "codemirror_mode": {
    "name": "ipython",
    "version": 3
   },
   "file_extension": ".py",
   "mimetype": "text/x-python",
   "name": "python",
   "nbconvert_exporter": "python",
   "pygments_lexer": "ipython3",
   "version": "3.11.5"
  }
 },
 "nbformat": 4,
 "nbformat_minor": 4
}
