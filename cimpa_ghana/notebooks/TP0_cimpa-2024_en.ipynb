{
 "cells": [
  {
   "cell_type": "markdown",
   "metadata": {
    "deletable": false,
    "editable": false,
    "nbgrader": {
     "cell_type": "markdown",
     "checksum": "b4f4cd5c5c6326dd9b431a20302fc93d",
     "grade": false,
     "grade_id": "cell-c475743138b0b746",
     "locked": true,
     "schema_version": 3,
     "solution": false,
     "task": false
    }
   },
   "source": [
    "# Notebook TP 0¶"
   ]
  },
  {
   "cell_type": "markdown",
   "metadata": {
    "deletable": false,
    "editable": false,
    "nbgrader": {
     "cell_type": "markdown",
     "checksum": "fd044fccf04e683a43ae70c0c645fdcf",
     "grade": false,
     "grade_id": "cell-a8cb5cad0b04ea30",
     "locked": true,
     "schema_version": 3,
     "solution": false,
     "task": false
    }
   },
   "source": [
    "You will use this notebook to answer the exercises. You can add text (markdown) or code cells as you see fit, but you are not allowed to delete cells.\n",
    "\n",
    "In this first session, we take control of the software: we experiment the visualizing methods of two variable functions (graph and isovalues)\n"
   ]
  },
  {
   "cell_type": "markdown",
   "metadata": {
    "deletable": false,
    "editable": false,
    "nbgrader": {
     "cell_type": "markdown",
     "checksum": "a1fae7482e8f34537a9dde7ab5bbc3f0",
     "grade": false,
     "grade_id": "cell-9fe7072105dfdf39",
     "locked": true,
     "schema_version": 3,
     "solution": false,
     "task": false
    }
   },
   "source": [
    "# Visualization of a 2d function"
   ]
  },
  {
   "cell_type": "markdown",
   "metadata": {
    "deletable": false,
    "editable": false,
    "nbgrader": {
     "cell_type": "markdown",
     "checksum": "1cee0d037de3c92a0f007f0ea73b1283",
     "grade": false,
     "grade_id": "cell-836b0091bab4b3bf",
     "locked": true,
     "schema_version": 3,
     "solution": false,
     "task": false
    }
   },
   "source": [
    "In a code cell, load the libraries  numpy, math and matplotlib + specific 3D tools"
   ]
  },
  {
   "cell_type": "code",
   "execution_count": null,
   "metadata": {
    "deletable": false,
    "editable": false,
    "nbgrader": {
     "cell_type": "code",
     "checksum": "c5b2590d4cfe48372910a0611416694b",
     "grade": false,
     "grade_id": "cell-28581fbe91a0896f",
     "locked": true,
     "schema_version": 3,
     "solution": false,
     "task": false
    }
   },
   "outputs": [],
   "source": [
    "import numpy as np\n",
    "import matplotlib.pyplot as plt\n",
    "import math\n",
    "from mpl_toolkits.mplot3d import Axes3D\n",
    "from matplotlib import cm\n",
    "\n",
    "%matplotlib inline "
   ]
  },
  {
   "cell_type": "markdown",
   "metadata": {
    "deletable": false,
    "editable": false,
    "nbgrader": {
     "cell_type": "markdown",
     "checksum": "d4e31d4dbe49e822134844436892c879",
     "grade": false,
     "grade_id": "cell-f160ecf8711b93d0",
     "locked": true,
     "schema_version": 3,
     "solution": false,
     "task": false
    }
   },
   "source": [
    "\n",
    "Consider the 3 functions\n",
    "\\begin{eqnarray}\n",
    "quad: R^n\\rightarrow R, \\quad quad(X)&=&\\frac{1}{2}\\langle Ax,x\\rangle+\\langle b,x\\rangle +c,\\quad A\\in R^{n\\times n},~b\\in R^n,~c\\in R\\\\\n",
    "f24:R^2\\rightarrow R, \\quad f24(X)&=& {(x_1-2)^2+(x_2-3)^4},\n",
    "\\\\\n",
    "rast: R^n\\rightarrow  R,\\quad rast(X)&=&n+||X||^2-\\sum_{i=1}^n\\cos(\\beta x_i), \\mbox{  with } \\beta=5.\n",
    "\\end{eqnarray}\n"
   ]
  },
  {
   "cell_type": "code",
   "execution_count": null,
   "metadata": {
    "deletable": false,
    "editable": false,
    "nbgrader": {
     "cell_type": "code",
     "checksum": "9b10535d8ab99130352f967ec22111ef",
     "grade": false,
     "grade_id": "cell-69b8ed0d290b45f4",
     "locked": true,
     "schema_version": 3,
     "solution": false,
     "task": false
    }
   },
   "outputs": [],
   "source": [
    "A=np.array([[3.,-0.2],[-0.2,2.]])\n",
    "B=np.array([-2.6,-3.8])\n",
    "X=np.array([1.,2.])\n",
    "C=5.1\n",
    "print (X,A,B,C)\n",
    "print (X.shape,A.shape)"
   ]
  },
  {
   "cell_type": "markdown",
   "metadata": {
    "deletable": false,
    "editable": false,
    "nbgrader": {
     "cell_type": "markdown",
     "checksum": "89753ff05b444faa8e6d93dd34f55962",
     "grade": false,
     "grade_id": "cell-2bf49b657be6411e",
     "locked": true,
     "schema_version": 3,
     "solution": false,
     "task": false
    }
   },
   "source": [
    "Program a function quad(X), the arrays $A$, $B$ and the float $C$ are globally defined  "
   ]
  },
  {
   "cell_type": "code",
   "execution_count": null,
   "metadata": {
    "deletable": false,
    "nbgrader": {
     "cell_type": "code",
     "checksum": "19c9a20284c81eb437f51ab05479ab36",
     "grade": true,
     "grade_id": "cell-d5ace278c23a7527",
     "locked": false,
     "points": 1,
     "schema_version": 3,
     "solution": true,
     "task": false
    }
   },
   "outputs": [],
   "source": [
    "def quad(X):\n",
    "# fill  here with your code"
   ]
  },
  {
   "cell_type": "markdown",
   "metadata": {
    "deletable": false,
    "editable": false,
    "nbgrader": {
     "cell_type": "markdown",
     "checksum": "d553134a95e2cd3f37320f1d42aaef2d",
     "grade": false,
     "grade_id": "text",
     "locked": true,
     "schema_version": 3,
     "solution": false,
     "task": false
    }
   },
   "source": [
    "Test your function on the values defined above. You should get \n",
    "0 for quad(X,A,B,C)"
   ]
  },
  {
   "cell_type": "code",
   "execution_count": null,
   "metadata": {
    "deletable": false,
    "editable": false,
    "nbgrader": {
     "cell_type": "code",
     "checksum": "84bb8fc9ccbc1abc5acaa503acb25a7e",
     "grade": true,
     "grade_id": "cell-3f5074d125d3c7e7",
     "locked": true,
     "points": 2,
     "schema_version": 3,
     "solution": false,
     "task": false
    }
   },
   "outputs": [],
   "source": [
    "assert quad(X)==0.0\n",
    "assert quad(np.array([1.,1.])) == 0.9999999999999991"
   ]
  },
  {
   "cell_type": "markdown",
   "metadata": {
    "deletable": false,
    "editable": false,
    "nbgrader": {
     "cell_type": "markdown",
     "checksum": "2931bedd3296dd97033a5a8833d3896b",
     "grade": false,
     "grade_id": "cell-7fc78691528b4283",
     "locked": true,
     "schema_version": 3,
     "solution": false,
     "task": false
    }
   },
   "source": [
    "Check that your function returns an error if the arrays do not have the correct shape"
   ]
  },
  {
   "cell_type": "code",
   "execution_count": null,
   "metadata": {
    "deletable": false,
    "nbgrader": {
     "cell_type": "code",
     "checksum": "e092152d0b2480d18dddd8e0814b5894",
     "grade": true,
     "grade_id": "cell-59197056932222f5",
     "locked": false,
     "points": 1,
     "schema_version": 3,
     "solution": true,
     "task": false
    }
   },
   "outputs": [],
   "source": [
    "# fill  here with your code"
   ]
  },
  {
   "cell_type": "markdown",
   "metadata": {
    "deletable": false,
    "editable": false,
    "nbgrader": {
     "cell_type": "markdown",
     "checksum": "af880bd6136a8f492fcb4fb18193028e",
     "grade": false,
     "grade_id": "cell-33a8fdf5473f0279",
     "locked": true,
     "schema_version": 3,
     "solution": false,
     "task": false
    }
   },
   "source": [
    "The following cell draws the graph and isovalues of the  quad function"
   ]
  },
  {
   "cell_type": "code",
   "execution_count": null,
   "metadata": {
    "deletable": false,
    "editable": false,
    "nbgrader": {
     "cell_type": "code",
     "checksum": "cbbb254090c101e79f671e59a8b2e76f",
     "grade": false,
     "grade_id": "cell-61ec3ea6ea7e33d7",
     "locked": true,
     "schema_version": 3,
     "solution": false,
     "task": false
    }
   },
   "outputs": [],
   "source": [
    "n1=50\n",
    "n2=40\n",
    "x1_=np.linspace(-3.,5.,n1)\n",
    "x2_=np.linspace(-3.,5.,n2)\n",
    "s_=np.zeros((n2,n1))\n",
    "#sx1_=np.zeros((n1,n2))\n",
    "#sx2_=np.zeros((n1,n2))\n",
    "print (s_)\n",
    "sx1_,sx2_=np.meshgrid(x1_,x2_)\n",
    "for i in range(n1):\n",
    "    for j in range (n2):\n",
    "        s_[j,i]=quad(np.array([x1_[i],x2_[j]]))\n",
    "#print s_, sx1_,sx2_\n",
    "fig = plt.figure()\n",
    "fig.clf()\n",
    "\n",
    "ax = fig.add_subplot(121, projection='3d')\n",
    "\n",
    "ax.plot_surface(sx1_,sx2_,s_,rstride=1, cstride=1, cmap=cm.coolwarm,\n",
    "                       linewidth=0, antialiased=False)\n",
    "ax.set_xlabel('x1')\n",
    "ax.set_ylabel('x2')\n",
    "ax.set_zlabel('f')\n",
    "ax.set_title('Graph and isovalues \\n of the quad function')\n",
    "ay = fig.add_subplot(122)\n",
    "\n",
    "ay.contour(sx1_,sx2_,s_)\n",
    "ay.set_xlabel('x1')\n",
    "ay.set_ylabel('x2')\n",
    "fig.tight_layout()\n",
    "\n",
    "\n",
    "#ax.contour(sx1_,sx2_,s_)"
   ]
  },
  {
   "cell_type": "markdown",
   "metadata": {
    "deletable": false,
    "editable": false,
    "nbgrader": {
     "cell_type": "markdown",
     "checksum": "b268c498c35a3978232a57dc4782c60d",
     "grade": false,
     "grade_id": "cell-84912fcf02c27fc2",
     "locked": true,
     "schema_version": 3,
     "solution": false,
     "task": false
    }
   },
   "source": [
    "Adapt the above code to define a function displaying the graph and isovalues of a function passed in input\n"
   ]
  },
  {
   "cell_type": "code",
   "execution_count": null,
   "metadata": {
    "deletable": false,
    "nbgrader": {
     "cell_type": "code",
     "checksum": "e0d8f752b200966a52e660e7b1628ca0",
     "grade": true,
     "grade_id": "cell-f499521c82f2e656",
     "locked": false,
     "points": 2,
     "schema_version": 3,
     "solution": true,
     "task": false
    }
   },
   "outputs": [],
   "source": [
    "def plot_function(fun,center,dimensions):\n",
    "    # fun : name of the function to be drawn\n",
    "    # center : center of the display area (list or np.array of length 2)\n",
    "    # dimensions :half dimensions of the display area  (list or np.array of length 2)\n",
    "    # your code below\n",
    "    # fill  here with your code\n"
   ]
  },
  {
   "cell_type": "markdown",
   "metadata": {
    "deletable": false,
    "editable": false,
    "nbgrader": {
     "cell_type": "markdown",
     "checksum": "9c22f8bb44117ac2fbc56ab36736cd02",
     "grade": false,
     "grade_id": "cell-0ab6b9d7353f7d50",
     "locked": true,
     "schema_version": 3,
     "solution": false,
     "task": false
    }
   },
   "source": [
    "Test the  plot_function  function on the quad function"
   ]
  },
  {
   "cell_type": "code",
   "execution_count": null,
   "metadata": {
    "deletable": false,
    "nbgrader": {
     "cell_type": "code",
     "checksum": "b99c1684bc7098dbf473f1f296a10c60",
     "grade": true,
     "grade_id": "cell-9bc8aaa27b631b29",
     "locked": false,
     "points": 1,
     "schema_version": 3,
     "solution": true,
     "task": false
    }
   },
   "outputs": [],
   "source": [
    "# fill  here with your code"
   ]
  },
  {
   "cell_type": "markdown",
   "metadata": {
    "deletable": false,
    "editable": false,
    "nbgrader": {
     "cell_type": "markdown",
     "checksum": "b6f0befe6c4ffbd6d76af695e7fb5cd1",
     "grade": false,
     "grade_id": "cell-ffb7e6e5ed4ca1c6",
     "locked": true,
     "schema_version": 3,
     "solution": false,
     "task": false
    }
   },
   "source": [
    "Program functions $f23(x)$. This function should take a numpy array of shape (2,) as input argument. "
   ]
  },
  {
   "cell_type": "code",
   "execution_count": null,
   "metadata": {
    "deletable": false,
    "nbgrader": {
     "cell_type": "code",
     "checksum": "2e0b064d3c0c2fc4d13856dd542cfa5d",
     "grade": true,
     "grade_id": "assertf23",
     "locked": false,
     "points": 1,
     "schema_version": 3,
     "solution": true,
     "task": false
    }
   },
   "outputs": [],
   "source": [
    "def f23(x):\n",
    "    # fill  here with your code"
   ]
  },
  {
   "cell_type": "code",
   "execution_count": null,
   "metadata": {
    "deletable": false,
    "editable": false,
    "nbgrader": {
     "cell_type": "code",
     "checksum": "0ff4a7150fd0dca705f034c66aa989c4",
     "grade": true,
     "grade_id": "cell-47cced6242940e7c",
     "locked": true,
     "points": 1,
     "schema_version": 3,
     "solution": false,
     "task": false
    }
   },
   "outputs": [],
   "source": [
    "X=np.array([1.,2.])\n",
    "assert f23(X)==2.0"
   ]
  },
  {
   "cell_type": "markdown",
   "metadata": {
    "deletable": false,
    "editable": false,
    "nbgrader": {
     "cell_type": "markdown",
     "checksum": "1e866b81f99658d633712dbac4f3dbf3",
     "grade": false,
     "grade_id": "cell-461b897ddb907794",
     "locked": true,
     "schema_version": 3,
     "solution": false,
     "task": false
    }
   },
   "source": [
    "Program function $rast(x)$. This function should take a numpy array of shape (2,) as input argument"
   ]
  },
  {
   "cell_type": "code",
   "execution_count": null,
   "metadata": {
    "deletable": false,
    "nbgrader": {
     "cell_type": "code",
     "checksum": "ca76cea8854e9ac4f11a162a1c5e98bb",
     "grade": true,
     "grade_id": "cell-da633b6074",
     "locked": false,
     "points": 1,
     "schema_version": 3,
     "solution": true,
     "task": false
    }
   },
   "outputs": [],
   "source": [
    "def rast(x):\n",
    "    # fill  here with your code"
   ]
  },
  {
   "cell_type": "code",
   "execution_count": null,
   "metadata": {
    "deletable": false,
    "editable": false,
    "nbgrader": {
     "cell_type": "code",
     "checksum": "219b1475baa99b570008b23f4e6789be",
     "grade": true,
     "grade_id": "cell-2841aeab834a562b",
     "locked": true,
     "points": 1,
     "schema_version": 3,
     "solution": false,
     "task": false
    }
   },
   "outputs": [],
   "source": [
    "X=np.array([1.,2.])\n",
    "assert rast(X)==7.555409343613227"
   ]
  },
  {
   "cell_type": "markdown",
   "metadata": {
    "deletable": false,
    "editable": false,
    "nbgrader": {
     "cell_type": "markdown",
     "checksum": "fea05985da931fcf0fe1264faa37e18c",
     "grade": false,
     "grade_id": "cell-4c4d54f04df58b94",
     "locked": true,
     "schema_version": 3,
     "solution": false,
     "task": false
    }
   },
   "source": [
    "Draw the graph and isovalues of  function $f23$ for an interesting range values. "
   ]
  },
  {
   "cell_type": "code",
   "execution_count": null,
   "metadata": {
    "deletable": false,
    "nbgrader": {
     "cell_type": "code",
     "checksum": "6a178dbf1b2c21121b02610274dcefc1",
     "grade": true,
     "grade_id": "cell-5d2ffac2db147369",
     "locked": false,
     "points": 1,
     "schema_version": 3,
     "solution": true,
     "task": false
    }
   },
   "outputs": [],
   "source": [
    "# fill  here with your code"
   ]
  },
  {
   "cell_type": "markdown",
   "metadata": {
    "deletable": false,
    "editable": false,
    "nbgrader": {
     "cell_type": "markdown",
     "checksum": "332b5aef65cd173293dbc60eac5671db",
     "grade": false,
     "grade_id": "cell-87b2604b0031939b",
     "locked": true,
     "schema_version": 3,
     "solution": false,
     "task": false
    }
   },
   "source": [
    "Draw the graph and isovalues of  function  $rast$ for an interesting range values. "
   ]
  },
  {
   "cell_type": "code",
   "execution_count": null,
   "metadata": {
    "deletable": false,
    "nbgrader": {
     "cell_type": "code",
     "checksum": "6e8209aebb8d62a7f8637e098ec66b4a",
     "grade": true,
     "grade_id": "cell-221a74811b3c87db",
     "locked": false,
     "points": 1,
     "schema_version": 3,
     "solution": true,
     "task": false
    }
   },
   "outputs": [],
   "source": [
    "# fill  here with your code"
   ]
  },
  {
   "cell_type": "markdown",
   "metadata": {
    "deletable": false,
    "editable": false,
    "nbgrader": {
     "cell_type": "markdown",
     "checksum": "3858ce6cdefd110f95ad9eef4dd7fbbc",
     "grade": false,
     "grade_id": "cell-8d85f46110616412",
     "locked": true,
     "schema_version": 3,
     "solution": false,
     "task": false
    }
   },
   "source": [
    "Modify  the function plot_function so that it also draws a red cross in a given point $x_x$ sent in input as an optionnal  $4^{th}$ argument.\n"
   ]
  },
  {
   "cell_type": "code",
   "execution_count": null,
   "metadata": {
    "deletable": false,
    "nbgrader": {
     "cell_type": "code",
     "checksum": "762c0a940dbda732da47533206edc54a",
     "grade": true,
     "grade_id": "cell-68c77272eedb2709",
     "locked": false,
     "points": 1,
     "schema_version": 3,
     "solution": true,
     "task": false
    }
   },
   "outputs": [],
   "source": [
    "def plot_function(fun,center,dimensions,point=center):\n",
    "    # fun : name of the function to be drawn\n",
    "    # center : center of the display area (list or np.array of length 2)\n",
    "    # dimensions :half dimensions of the display area  (list or np.array of length 2)\n",
    "    # point : location for a red cross\n",
    "    # your code below\n",
    "    # fill  here with your code"
   ]
  },
  {
   "cell_type": "markdown",
   "metadata": {
    "deletable": false,
    "editable": false,
    "nbgrader": {
     "cell_type": "markdown",
     "checksum": "c8cd01c1e9ce58a1a9b569004073bcd1",
     "grade": false,
     "grade_id": "cell-65b56b4f95a50057",
     "locked": true,
     "schema_version": 3,
     "solution": false,
     "task": false
    }
   },
   "source": [
    "Test the modify $plot\\_function$ on $f23$ and $rast$"
   ]
  },
  {
   "cell_type": "code",
   "execution_count": null,
   "metadata": {
    "deletable": false,
    "nbgrader": {
     "cell_type": "code",
     "checksum": "a8edba6016960c07e55d813bbd4f17bf",
     "grade": true,
     "grade_id": "cell-ec09b99ffb23bf91",
     "locked": false,
     "points": 2,
     "schema_version": 3,
     "solution": true,
     "task": false
    }
   },
   "outputs": [],
   "source": [
    "# fill  here with your code"
   ]
  },
  {
   "cell_type": "markdown",
   "metadata": {
    "deletable": false,
    "editable": false,
    "nbgrader": {
     "cell_type": "markdown",
     "checksum": "8e62b09c93868a189e7c612937764349",
     "grade": false,
     "grade_id": "cell-983f548791d987bb",
     "locked": true,
     "schema_version": 3,
     "solution": false,
     "task": false
    }
   },
   "source": [
    "### The following cells reproduce the example of level curves shown in class"
   ]
  },
  {
   "cell_type": "code",
   "execution_count": null,
   "metadata": {
    "deletable": false,
    "editable": false,
    "nbgrader": {
     "cell_type": "code",
     "checksum": "5063a2b876a8aff579282e19a564c208",
     "grade": false,
     "grade_id": "cell-94c6721665db180a",
     "locked": true,
     "schema_version": 3,
     "solution": false,
     "task": false
    }
   },
   "outputs": [],
   "source": [
    "def circle(X):\n",
    "    if not isinstance(X, np.ndarray):\n",
    "        raise ValueError(\" X input argument shoud be numpy array\")\n",
    "    if X.shape != (2,):\n",
    "        raise ValueError(\"invalid shape for X input argument\")\n",
    "    return np.linalg.norm(X)**2\n",
    "def circ_exp(X):\n",
    "    if not isinstance(X, np.ndarray):\n",
    "        raise ValueError(\" X input argument shoud be numpy array\")\n",
    "    if X.shape != (2,):\n",
    "        raise ValueError(\"invalid shape for X input argument\")\n",
    "    return np.exp(-X[0])*np.linalg.norm(X)**2\n"
   ]
  },
  {
   "cell_type": "code",
   "execution_count": null,
   "metadata": {
    "deletable": false,
    "editable": false,
    "nbgrader": {
     "cell_type": "code",
     "checksum": "20b0690aae0f251e741fa99f11e59a0e",
     "grade": false,
     "grade_id": "cell-7c26428fbb089674",
     "locked": true,
     "schema_version": 3,
     "solution": false,
     "task": false
    }
   },
   "outputs": [],
   "source": [
    "import matplotlib.gridspec as gridspec\n",
    "# This custom formatter removes trailing zeros, e.g. \"1.0\" becomes \"1\"\n",
    "def fmt(x):\n",
    "    s = f\"{x:.1f}\"\n",
    "    if s.endswith(\"0\"):\n",
    "        s = f\"{x:.0f}\"\n",
    "    return rf\"{s}\" if plt.rcParams[\"text.usetex\"] else f\"{s}\"\n",
    "\n",
    "\n",
    "def makefig3(fun):\n",
    "    n1=50\n",
    "    n2=40\n",
    "    x1_=np.linspace(-4.,4.,n1)\n",
    "    x2_=np.linspace(-4.,4.,n2)\n",
    "    s_=np.zeros((n2,n1))\n",
    "    sx1_,sx2_=np.meshgrid(x1_,x2_)\n",
    "    for i in range(n1):\n",
    "        for j in range (n2):\n",
    "            s_[j,i]=fun(np.array([x1_[i],x2_[j]]))\n",
    "    fig = plt.figure(figsize=(10, 6))\n",
    "    fig.clf()\n",
    "    gs = gridspec.GridSpec(1, 3, height_ratios=[1], width_ratios=[1.5, 1, 1])\n",
    "    levels = [0.5,1,1.5,5,10,100]\n",
    "    ax = plt.subplot(gs[0, 0], projection='3d')\n",
    "\n",
    "    ax.plot_surface(sx1_,sx2_,s_,rstride=1, cstride=1, cmap=cm.coolwarm,\n",
    "                       linewidth=0, antialiased=False)\n",
    "\n",
    "    \n",
    "    ax.set_xlabel('x')\n",
    "    ax.set_ylabel('y')\n",
    "    ax.set_zlabel('f')\n",
    "\n",
    "    ay = plt.subplot(gs[0, 1])\n",
    "\n",
    "\n",
    "\n",
    "    \n",
    "    CS =ay.contour(sx1_,sx2_,s_,cmap=cm.coolwarm,levels=levels)\n",
    " \n",
    "    ay.clabel(CS, CS.levels, inline=True, fmt=fmt, fontsize=10)\n",
    "\n",
    "    ay.set_xlabel('x')\n",
    "    ay.set_ylabel('y')\n",
    "    ay.set_aspect('equal')\n",
    "\n",
    "    az = plt.subplot(gs[0, 2])\n",
    "    az.contourf(sx1_,sx2_,s_)\n",
    "    az.set_xlabel('x')\n",
    "    az.set_ylabel('y')\n",
    "    az.set_aspect('equal')\n",
    "    fig.tight_layout()\n",
    "\n",
    "makefig3(circ_exp)"
   ]
  },
  {
   "cell_type": "code",
   "execution_count": null,
   "metadata": {
    "deletable": false,
    "editable": false,
    "nbgrader": {
     "cell_type": "code",
     "checksum": "24da40f1e08075e109f74a414354cd61",
     "grade": false,
     "grade_id": "cell-44bb07e0fbeb783e",
     "locked": true,
     "schema_version": 3,
     "solution": false,
     "task": false
    }
   },
   "outputs": [],
   "source": [
    "def makefig2():\n",
    "    n1=50\n",
    "    n2=40\n",
    "    x1_=np.linspace(-4.,4.,n1)\n",
    "    x2_=np.linspace(-4.,4.,n2)\n",
    "    s1_=np.zeros((n2,n1))\n",
    "    s2_=np.zeros((n2,n1))\n",
    "    sx1_,sx2_=np.meshgrid(x1_,x2_)\n",
    "    for i in range(n1):\n",
    "        for j in range (n2):\n",
    "            s1_[j,i]=circle(np.array([x1_[i],x2_[j]]))\n",
    "            s2_[j,i]=circ_exp(np.array([x1_[i],x2_[j]]))\n",
    "    fig = plt.figure(figsize=(10, 6))\n",
    "    fig.clf()\n",
    "    gs = gridspec.GridSpec(1, 2, height_ratios=[1], width_ratios=[ 1, 1])\n",
    "    levels = [0.5,1,1.5,5,10,100]\n",
    "\n",
    "    ay = plt.subplot(gs[0, 0]) \n",
    "    CS =ay.contour(sx1_,sx2_,s1_,cmap=cm.coolwarm,levels=levels)\n",
    "    ay.clabel(CS, CS.levels, inline=True, fmt=fmt, fontsize=10)\n",
    "    ay.set_xlabel('x')\n",
    "    ay.set_ylabel('y')\n",
    "    ay.set_aspect('equal')\n",
    "\n",
    "    az = plt.subplot(gs[0, 1])\n",
    "    CS2 =az.contour(sx1_,sx2_,s2_,cmap=cm.coolwarm,levels=levels)\n",
    "    az.clabel(CS2, CS2.levels, inline=True, fmt=fmt, fontsize=10)\n",
    "    az.set_xlabel('x')\n",
    "    az.set_ylabel('y')\n",
    "    az.set_aspect('equal')\n",
    "    fig.tight_layout()\n",
    "    #plt.savefig('../FIGURES/contour.png')  uncomment if you want to save the picture\n",
    "makefig2()"
   ]
  },
  {
   "cell_type": "code",
   "execution_count": null,
   "metadata": {
    "deletable": false,
    "editable": false,
    "nbgrader": {
     "cell_type": "code",
     "checksum": "1a9cdef2a4c8edcef1dc158a773ced4a",
     "grade": false,
     "grade_id": "cell-b42fd031357f36da",
     "locked": true,
     "schema_version": 3,
     "solution": false,
     "task": false
    }
   },
   "outputs": [],
   "source": []
  },
  {
   "cell_type": "code",
   "execution_count": null,
   "metadata": {
    "deletable": false,
    "editable": false,
    "nbgrader": {
     "cell_type": "code",
     "checksum": "0fec5e62a74c3ec1ffcb897dd23e31cc",
     "grade": false,
     "grade_id": "cell-d2523a4ffe7e148f",
     "locked": true,
     "schema_version": 3,
     "solution": false,
     "task": false
    }
   },
   "outputs": [],
   "source": []
  },
  {
   "cell_type": "code",
   "execution_count": null,
   "metadata": {
    "deletable": false,
    "editable": false,
    "nbgrader": {
     "cell_type": "code",
     "checksum": "36033deeb6fff98d30e59a6125019daa",
     "grade": false,
     "grade_id": "cell-56f8dab186d493b2",
     "locked": true,
     "schema_version": 3,
     "solution": false,
     "task": false
    }
   },
   "outputs": [],
   "source": []
  }
 ],
 "metadata": {
  "kernelspec": {
   "display_name": "Python 3 (ipykernel)",
   "language": "python",
   "name": "python3"
  },
  "language_info": {
   "codemirror_mode": {
    "name": "ipython",
    "version": 3
   },
   "file_extension": ".py",
   "mimetype": "text/x-python",
   "name": "python",
   "nbconvert_exporter": "python",
   "pygments_lexer": "ipython3",
   "version": "3.11.5"
  },
  "notebookname": "Fibonacci",
  "version": "1.0"
 },
 "nbformat": 4,
 "nbformat_minor": 4
}
