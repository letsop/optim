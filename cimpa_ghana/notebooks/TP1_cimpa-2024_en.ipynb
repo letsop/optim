{
 "cells": [
  {
   "cell_type": "markdown",
   "metadata": {
    "deletable": false,
    "editable": false,
    "nbgrader": {
     "cell_type": "markdown",
     "checksum": "dbe45f6b87b3cfd1979669385e599431",
     "grade": false,
     "grade_id": "cell-c475743138b0b746",
     "locked": true,
     "schema_version": 3,
     "solution": false,
     "task": false
    }
   },
   "source": [
    "# Notebook TP 1¶"
   ]
  },
  {
   "cell_type": "markdown",
   "metadata": {
    "deletable": false,
    "editable": false,
    "nbgrader": {
     "cell_type": "markdown",
     "checksum": "ede516d13d6c96ce1b6a0a1ab6722ea2",
     "grade": false,
     "grade_id": "cell-a8cb5cad0b04ea30",
     "locked": true,
     "schema_version": 3,
     "solution": false,
     "task": false
    }
   },
   "source": [
    "You will use this notebook to answer the exercises. You can add text (markdown) or code cells as you see fit.\n",
    "\n",
    "In this first session, we take control of the software: we play with the notion of numerical approximation of a derivative. We also experiment the visualizing methods of two variable functions (graph and isovalues)\n",
    "\n",
    "\n"
   ]
  },
  {
   "cell_type": "markdown",
   "metadata": {
    "deletable": false,
    "editable": false,
    "nbgrader": {
     "cell_type": "markdown",
     "checksum": "d7694cddf51acf3774292ecce5c2f657",
     "grade": false,
     "grade_id": "cell-49fc6ef790ad7b8f",
     "locked": true,
     "schema_version": 3,
     "solution": false,
     "task": false
    }
   },
   "source": [
    "# Numerical Approximation of a derivative"
   ]
  },
  {
   "cell_type": "markdown",
   "metadata": {
    "deletable": false,
    "editable": false,
    "nbgrader": {
     "cell_type": "markdown",
     "checksum": "83ec927ed8620ceaed2e680063704d15",
     "grade": false,
     "grade_id": "cell-15f9fc9b20eed299",
     "locked": true,
     "schema_version": 3,
     "solution": false,
     "task": false
    }
   },
   "source": [
    "The aim of the exercise is to verify the numerical precision of\n",
    "two approximations by finite differences\n",
    "of the derivative of a function \n",
    "$$\n",
    "(1)\\quad\\quad f'(x)\\approx \\frac{f(x+h)-f(x)}{h}$$\n",
    "$$\n",
    "(2)\\quad\\quad f'(x)\\approx \\frac{f(x+h)-f(x-h)}{2h}.$$\n",
    "\n",
    "Calculate the order of the error made by approximating the derivative by these approximations for $ h \\neq 0 $. "
   ]
  },
  {
   "cell_type": "markdown",
   "metadata": {
    "deletable": false,
    "nbgrader": {
     "cell_type": "markdown",
     "checksum": "29b90315f5f9d4ca7c5c919c33ba7aa7",
     "grade": true,
     "grade_id": "cell-1a8972423d86bc63",
     "locked": false,
     "points": 1,
     "schema_version": 3,
     "solution": true,
     "task": false
    }
   },
   "source": [
    "#### double click here then answer in text  or LaTeX or markdown format"
   ]
  },
  {
   "cell_type": "markdown",
   "metadata": {
    "deletable": false,
    "editable": false,
    "nbgrader": {
     "cell_type": "markdown",
     "checksum": "5ea038c044d00b3e08802bc0933cd91a",
     "grade": false,
     "grade_id": "cell-00d74277eeebe21d",
     "locked": true,
     "schema_version": 3,
     "solution": false,
     "task": false
    }
   },
   "source": [
    "In a code cell, load the libraries  numpy, math and matplotlib "
   ]
  },
  {
   "cell_type": "code",
   "execution_count": null,
   "metadata": {
    "deletable": false,
    "editable": false,
    "nbgrader": {
     "cell_type": "code",
     "checksum": "3e30366964a7d79d13dec2b116536092",
     "grade": false,
     "grade_id": "cell-4462e11de905e73c",
     "locked": true,
     "schema_version": 3,
     "solution": false,
     "task": false
    }
   },
   "outputs": [],
   "source": [
    "import numpy as np\n",
    "import math\n",
    "import matplotlib.pyplot as plt\n",
    "%matplotlib inline   \n",
    "# this command show plots in the notebook"
   ]
  },
  {
   "cell_type": "markdown",
   "metadata": {
    "deletable": false,
    "editable": false,
    "nbgrader": {
     "cell_type": "markdown",
     "checksum": "487934cc90dc86e925211946fe5ddcf8",
     "grade": false,
     "grade_id": "cell-3f5be5668977b161",
     "locked": true,
     "schema_version": 3,
     "solution": false,
     "task": false
    }
   },
   "source": [
    "Program a function  $f(x)$ returning the value of $\\sin(x)$ and a function $fprime(x)$ returning its derivative. Use $numpy$ trigonometric functions\n"
   ]
  },
  {
   "cell_type": "code",
   "execution_count": null,
   "metadata": {
    "deletable": false,
    "nbgrader": {
     "cell_type": "code",
     "checksum": "50edfa918e3186bfd1a45ded2418a253",
     "grade": true,
     "grade_id": "cell-a1f8f8c048a6c0c6",
     "locked": false,
     "points": 1,
     "schema_version": 3,
     "solution": true,
     "task": false
    }
   },
   "outputs": [],
   "source": [
    "# fill  here with your code"
   ]
  },
  {
   "cell_type": "markdown",
   "metadata": {
    "deletable": false,
    "editable": false,
    "nbgrader": {
     "cell_type": "markdown",
     "checksum": "34b68a643c0138b565c0d1d3bd56fd5a",
     "grade": false,
     "grade_id": "cell-5e378beb18d777ed",
     "locked": true,
     "schema_version": 3,
     "solution": false,
     "task": false
    }
   },
   "source": [
    "Define the variables\n",
    "$h=0.1$, the number of visualization points $n$ and  a vector of abscissa $x$ in order to discretize the interval\n",
    " $[0,\\pi]$, $x_i=i \\pi/n$, $i=0,\\ldots,n$ (use  numpy command : linspace)."
   ]
  },
  {
   "cell_type": "code",
   "execution_count": null,
   "metadata": {
    "deletable": false,
    "nbgrader": {
     "cell_type": "code",
     "checksum": "eb4aff1bc0fd1c69b86a8f2875b85c71",
     "grade": true,
     "grade_id": "cell-79fda42f8a3eab7d",
     "locked": false,
     "points": 1,
     "schema_version": 3,
     "solution": true,
     "task": false
    }
   },
   "outputs": [],
   "source": [
    "# fill  here with your code"
   ]
  },
  {
   "cell_type": "markdown",
   "metadata": {
    "deletable": false,
    "editable": false,
    "nbgrader": {
     "cell_type": "markdown",
     "checksum": "cf9eecf6c74a553c6a4f2069fecfb888",
     "grade": false,
     "grade_id": "cell-f6c8668aa6b4449e",
     "locked": true,
     "schema_version": 3,
     "solution": false,
     "task": false
    }
   },
   "source": [
    "Compute (without $for$ loop) in a numpy array $d$ the exact derivative of the function $f$ at points $x$ and in an array $d1$ the approximated values with the  formula (1) above"
   ]
  },
  {
   "cell_type": "code",
   "execution_count": null,
   "metadata": {
    "deletable": false,
    "nbgrader": {
     "cell_type": "code",
     "checksum": "34774cc5cf054cd8c09480a70c8a6ab5",
     "grade": true,
     "grade_id": "cell-58028fbfeb7dff9d",
     "locked": false,
     "points": 2,
     "schema_version": 3,
     "solution": true,
     "task": false
    }
   },
   "outputs": [],
   "source": [
    "# fill  here with your code"
   ]
  },
  {
   "cell_type": "markdown",
   "metadata": {},
   "source": [
    "Represent both $d$ and $d1$ in the same graph, with a legend and axis labels\n"
   ]
  },
  {
   "cell_type": "code",
   "execution_count": null,
   "metadata": {
    "deletable": false,
    "nbgrader": {
     "cell_type": "code",
     "checksum": "367ada1580343762e0762bd305d5a9cd",
     "grade": true,
     "grade_id": "cell-150556769a6c9b2f",
     "locked": false,
     "points": 2,
     "schema_version": 3,
     "solution": true,
     "task": false
    }
   },
   "outputs": [],
   "source": [
    "# fill  here with your code"
   ]
  },
  {
   "cell_type": "markdown",
   "metadata": {
    "deletable": false,
    "editable": false,
    "nbgrader": {
     "cell_type": "markdown",
     "checksum": "e9b8ace368d94db649cdc4f1eea11721",
     "grade": false,
     "grade_id": "cell-36809ef5f7bfdf48",
     "locked": true,
     "schema_version": 3,
     "solution": false,
     "task": false
    }
   },
   "source": [
    "Compute the maximal error \n",
    "$$e_1=\\displaystyle\\max_{i=1,n}|d1_i-d_i|$$\n",
    "using this approximation in the\n",
    " $[0,\\pi]$ interval (use  numpy.linalg.norm comand). \n",
    "\n",
    "Print the result"
   ]
  },
  {
   "cell_type": "code",
   "execution_count": null,
   "metadata": {
    "deletable": false,
    "nbgrader": {
     "cell_type": "code",
     "checksum": "6c1842b895a92fa0e8636e0e7db64d83",
     "grade": true,
     "grade_id": "cell-a3780199161d2eda",
     "locked": false,
     "points": 2,
     "schema_version": 3,
     "solution": true,
     "task": false
    }
   },
   "outputs": [],
   "source": [
    "# fill  here with your code"
   ]
  },
  {
   "cell_type": "markdown",
   "metadata": {
    "deletable": false,
    "editable": false,
    "nbgrader": {
     "cell_type": "markdown",
     "checksum": "c26c9df6a39dc8c675e5acc7ba874e3a",
     "grade": false,
     "grade_id": "cell-aac9db4b6b17d654",
     "locked": true,
     "schema_version": 3,
     "solution": false,
     "task": false
    }
   },
   "source": [
    "Do it again with a smaller $h=0.01$.  To answer this question copy-paste all the necessary commands in the following cell"
   ]
  },
  {
   "cell_type": "code",
   "execution_count": null,
   "metadata": {
    "deletable": false,
    "nbgrader": {
     "cell_type": "code",
     "checksum": "22b6ec2795877efe0073f6f29a48318e",
     "grade": true,
     "grade_id": "cell-fadfca0ae03625c7",
     "locked": false,
     "points": 2,
     "schema_version": 3,
     "solution": true,
     "task": false
    }
   },
   "outputs": [],
   "source": [
    "# fill  here with your code\n"
   ]
  },
  {
   "cell_type": "markdown",
   "metadata": {
    "deletable": false,
    "nbgrader": {
     "cell_type": "markdown",
     "checksum": "3651af8ac15ec5a1f02e3513d6bf74b8",
     "grade": true,
     "grade_id": "cell-0002c775c05280a6",
     "locked": false,
     "points": 0,
     "schema_version": 3,
     "solution": true,
     "task": false
    }
   },
   "source": [
    "What do you notice ?\n",
    "#### double click here then answer in text  or LaTeX or markdown format"
   ]
  },
  {
   "cell_type": "markdown",
   "metadata": {
    "deletable": false,
    "editable": false,
    "nbgrader": {
     "cell_type": "markdown",
     "checksum": "26a2601aa4b83e646ee6b64e415d9500",
     "grade": false,
     "grade_id": "cell-03704bd9a336c120",
     "locked": true,
     "schema_version": 3,
     "solution": false,
     "task": false
    }
   },
   "source": [
    "Now we are going to compare the two approximations (1) and (2).\n",
    "\n",
    "Compute the approximation in an array $d2$.\n",
    "\n",
    "Be careful to compute both approximations for the same value $h=0.1$ (which you may have changed recently). \n"
   ]
  },
  {
   "cell_type": "code",
   "execution_count": null,
   "metadata": {
    "deletable": false,
    "nbgrader": {
     "cell_type": "code",
     "checksum": "b042f35bcc22776bea37a0e5bb98f0fd",
     "grade": true,
     "grade_id": "cell-915381701ca5f8ca",
     "locked": false,
     "points": 2,
     "schema_version": 3,
     "solution": true,
     "task": false
    }
   },
   "outputs": [],
   "source": [
    "# fill  here with your code\n"
   ]
  },
  {
   "cell_type": "markdown",
   "metadata": {
    "deletable": false,
    "editable": false,
    "nbgrader": {
     "cell_type": "markdown",
     "checksum": "45afdcae348389ce5ee4850c6b7bea42",
     "grade": false,
     "grade_id": "cell-0d1852e9f3ea6c66",
     "locked": true,
     "schema_version": 3,
     "solution": false,
     "task": false
    }
   },
   "source": [
    "Represent $d$,  $d1$ and $d2$ in the same graph, with a legend and axis labels. Be careful to compute both approximations for the same value $h=0.1$ (which you may have changed recently). Plot the $d2$ approximation with a dotted line\n",
    "\n",
    " "
   ]
  },
  {
   "cell_type": "code",
   "execution_count": null,
   "metadata": {
    "deletable": false,
    "nbgrader": {
     "cell_type": "code",
     "checksum": "6847e73818e1b21af6d581d74aa3e583",
     "grade": true,
     "grade_id": "cell-a0bd301ad27593d3",
     "locked": false,
     "points": 2,
     "schema_version": 3,
     "solution": true,
     "task": false
    }
   },
   "outputs": [],
   "source": [
    "# fill  here with your code"
   ]
  },
  {
   "cell_type": "markdown",
   "metadata": {
    "deletable": false,
    "nbgrader": {
     "cell_type": "markdown",
     "checksum": "a2211aed5c4e9fa171263b6b003312a0",
     "grade": true,
     "grade_id": "cell-ff9b8e85ca2671d4",
     "locked": false,
     "points": 1,
     "schema_version": 3,
     "solution": true,
     "task": false
    }
   },
   "source": [
    "Interprate the graph:\n",
    "#### double click here then answer in text  or LaTeX or markdown format\n"
   ]
  },
  {
   "cell_type": "markdown",
   "metadata": {
    "deletable": false,
    "editable": false,
    "nbgrader": {
     "cell_type": "markdown",
     "checksum": "6ef28c29cec9eeade7b1d74f103b5ac0",
     "grade": false,
     "grade_id": "cell-da56c8b057938c47",
     "locked": true,
     "schema_version": 3,
     "solution": false,
     "task": false
    }
   },
   "source": [
    "Define a function $max\\_error$ with input parameter $h$ and return values\n",
    "the maximal errors between the two approximations and the exact derivative. "
   ]
  },
  {
   "cell_type": "code",
   "execution_count": null,
   "metadata": {
    "deletable": false,
    "nbgrader": {
     "cell_type": "code",
     "checksum": "fd062cf67f2ee14063238b7808c4c421",
     "grade": true,
     "grade_id": "cell-95b5bcee9fbeeb26",
     "locked": false,
     "points": 2,
     "schema_version": 3,
     "solution": true,
     "task": false
    }
   },
   "outputs": [],
   "source": [
    "# fill  here with your code"
   ]
  },
  {
   "cell_type": "markdown",
   "metadata": {
    "deletable": false,
    "editable": false,
    "nbgrader": {
     "cell_type": "markdown",
     "checksum": "e1a2b062f8d347294937a15d277428d1",
     "grade": false,
     "grade_id": "cell-b2377c970a16953b",
     "locked": true,
     "schema_version": 3,
     "solution": false,
     "task": false
    }
   },
   "source": [
    "Test the function $max\\_error$ on several values of $h=0.1$, $0.001$, $1O^{-5}$."
   ]
  },
  {
   "cell_type": "code",
   "execution_count": null,
   "metadata": {
    "deletable": false,
    "nbgrader": {
     "cell_type": "code",
     "checksum": "0bff53eb6b1b009e2820e74d8c69907a",
     "grade": true,
     "grade_id": "cell-4bb61246d8f38925",
     "locked": false,
     "points": 2,
     "schema_version": 3,
     "solution": true,
     "task": false
    }
   },
   "outputs": [],
   "source": [
    "# fill  here with your code"
   ]
  },
  {
   "cell_type": "markdown",
   "metadata": {
    "deletable": false,
    "editable": false,
    "nbgrader": {
     "cell_type": "markdown",
     "checksum": "76b6b4be40318346684c0f10306156a8",
     "grade": false,
     "grade_id": "cell-ae1832d2c4eb6843",
     "locked": true,
     "schema_version": 3,
     "solution": false,
     "task": false
    }
   },
   "source": [
    "Define an array $H$ containing increasing values between $10^{-10}$ and\n",
    "$0.1$ (use  numpy command  logspace). "
   ]
  },
  {
   "cell_type": "code",
   "execution_count": null,
   "metadata": {
    "deletable": false,
    "nbgrader": {
     "cell_type": "code",
     "checksum": "24971c02a7b2f455ef47ad745944e8c0",
     "grade": true,
     "grade_id": "cell-6f90bba5d58b3d73",
     "locked": false,
     "points": 1,
     "schema_version": 3,
     "solution": true,
     "task": false
    }
   },
   "outputs": [],
   "source": [
    "# fill  here with your code"
   ]
  },
  {
   "cell_type": "markdown",
   "metadata": {
    "deletable": false,
    "editable": false,
    "nbgrader": {
     "cell_type": "markdown",
     "checksum": "49c3c14d760a7dd052e261088c293cb5",
     "grade": false,
     "grade_id": "cell-336a62e2adcbede4",
     "locked": true,
     "schema_version": 3,
     "solution": false,
     "task": false
    }
   },
   "source": [
    "Compute the errors for the $H$ values into two lists $E1$ and $E2$"
   ]
  },
  {
   "cell_type": "code",
   "execution_count": null,
   "metadata": {
    "deletable": false,
    "nbgrader": {
     "cell_type": "code",
     "checksum": "08a44199edaab640e3416f3b03bb37d4",
     "grade": true,
     "grade_id": "cell-4c17ea2a882712cd",
     "locked": false,
     "points": 2,
     "schema_version": 3,
     "solution": true,
     "task": false
    }
   },
   "outputs": [],
   "source": [
    "# fill  here with your code"
   ]
  },
  {
   "cell_type": "markdown",
   "metadata": {},
   "source": [
    "Plot the graph of $E1$ and $E2$ versus $H$ in logarithmic coordinates (pyplot commands xscale and yscale).  \n",
    "Plot the theoretical trends of the errors $h$ versus $h$ and $h^2$ versus $h$ on the same graph."
   ]
  },
  {
   "cell_type": "code",
   "execution_count": null,
   "metadata": {
    "deletable": false,
    "nbgrader": {
     "cell_type": "code",
     "checksum": "9926d1234a3c1ee16e84d4e7a85856d0",
     "grade": true,
     "grade_id": "cell-4bf89fdddba91b51",
     "locked": false,
     "points": 2,
     "schema_version": 3,
     "solution": true,
     "task": false
    }
   },
   "outputs": [],
   "source": [
    "# fill  here with your code"
   ]
  },
  {
   "cell_type": "markdown",
   "metadata": {
    "deletable": false,
    "nbgrader": {
     "cell_type": "markdown",
     "checksum": "45c6c7eae1549b81e7d36dcb94b56d9e",
     "grade": true,
     "grade_id": "cell-56c5056b65ed5f54",
     "locked": false,
     "points": 1,
     "schema_version": 3,
     "solution": true,
     "task": false
    }
   },
   "source": [
    "Interpret the graph. Do you recover the expected order of convergence ? Why do the numerical error increase again when $h\\rightarrow 0$ ?\n",
    "#### double click here then answer in text  or LaTeX or markdown format"
   ]
  },
  {
   "cell_type": "markdown",
   "metadata": {
    "deletable": false,
    "editable": false,
    "nbgrader": {
     "cell_type": "markdown",
     "checksum": "2eea34d8deb1a5c48911ba99539d1c4f",
     "grade": false,
     "grade_id": "cell-088f7748cb8d779c",
     "locked": true,
     "schema_version": 3,
     "solution": false,
     "task": false
    }
   },
   "source": [
    "We are now going to explore what happens for functions which are less smooth than $\\sin(x)$\n",
    "\n",
    "\n",
    "You will draw the same graphs as above  for each of the 2 functions below. \n",
    "After defining the functions $f(x)$ and $fprime(x)$\n",
    "you need to think which computations need to be perform and copy-paste the  python commands in the correct order.\n",
    "\n",
    "$$ f_1(x)=\\left\\{\\begin{array}{l}\n",
    "-(x-\\pi/6)^4 \\mbox{ if }x<\\pi/6\\\\\n",
    "(x-\\pi/6)^4\\mbox{ otherwise}\n",
    "\\end{array}\\right.\\mbox{ on }[0,\\pi/2]\n",
    "$$\n",
    "\n",
    "$$ f_2(x)=\\left\\{\\begin{array}{l}\n",
    "-(x-\\pi/6)^2 \\mbox{ if }x<\\pi/6\\\\\n",
    "(x-\\pi/6)^2\\mbox{ otherwise}\n",
    "\\end{array}\\right.\\mbox{ on }[0,\\pi/2]\n",
    "$$\n",
    "\n",
    "$$ f_3(x)=\\left\\{\\begin{array}{l}\n",
    "-x+\\pi/6 \\mbox{ if }x<\\pi/6\\\\\n",
    "x-\\pi/6\\mbox{ otherwise}\n",
    "\\end{array}\\right.\\mbox{ on }[0,\\pi/2]\n",
    "$$\n"
   ]
  },
  {
   "cell_type": "markdown",
   "metadata": {
    "deletable": false,
    "editable": false,
    "nbgrader": {
     "cell_type": "markdown",
     "checksum": "03cc50607f681ffeb44fcb40a039a2d1",
     "grade": false,
     "grade_id": "cell-bd6e858939cb76f8",
     "locked": true,
     "schema_version": 3,
     "solution": false,
     "task": false
    }
   },
   "source": [
    "Programming hints : to find out which components of the $x$ numpy array are negative, you can use numpy function $np.where$. For instance\n",
    "\n",
    "$p=np.where(x<0)$\n",
    "\n",
    "To assign 1 to a numpy array $y$ of the same shape $x$ you can use numpy function $np.ones\\_like$. For instance\n",
    "\n",
    "$y=np.ones\\_like(x)$\n",
    "\n",
    "To assign 1 to a set $p$ of indices in an array $y$ you can use numpy function $np.ones\\_like$. For instance\n",
    "\n",
    "$y[p]=np.ones\\_like(p)$"
   ]
  },
  {
   "cell_type": "markdown",
   "metadata": {
    "deletable": false,
    "editable": false,
    "nbgrader": {
     "cell_type": "markdown",
     "checksum": "56bf566fdf449b2821fd97d1b67cdcc7",
     "grade": false,
     "grade_id": "cell-fab6211fb307c6fc",
     "locked": true,
     "schema_version": 3,
     "solution": false,
     "task": false
    }
   },
   "source": [
    "Program functions $f(x)$ and $fprime(x)$ for case 1"
   ]
  },
  {
   "cell_type": "code",
   "execution_count": null,
   "metadata": {
    "deletable": false,
    "nbgrader": {
     "cell_type": "code",
     "checksum": "46a54897ec7f3d3811a575d2c313b4ed",
     "grade": true,
     "grade_id": "cell-10d93c7d58a79767",
     "locked": false,
     "points": 2,
     "schema_version": 3,
     "solution": true,
     "task": false
    }
   },
   "outputs": [],
   "source": [
    "# fill  here with your code\n",
    "   "
   ]
  },
  {
   "cell_type": "markdown",
   "metadata": {
    "deletable": false,
    "editable": false,
    "nbgrader": {
     "cell_type": "markdown",
     "checksum": "da72338ec8910d7b6c98deba60ba13ff",
     "grade": false,
     "grade_id": "cell-6d8b1c9775c0b185",
     "locked": true,
     "schema_version": 3,
     "solution": false,
     "task": false
    }
   },
   "source": [
    "Draw the exact and approximative derivatives on $[0,\\pi/2]$ for $h=0.1$ "
   ]
  },
  {
   "cell_type": "code",
   "execution_count": null,
   "metadata": {
    "deletable": false,
    "nbgrader": {
     "cell_type": "code",
     "checksum": "833354385155073a5c72fb01f5aabfbe",
     "grade": true,
     "grade_id": "cell-da25c6521dd080be",
     "locked": false,
     "points": 2,
     "schema_version": 3,
     "solution": true,
     "task": false
    }
   },
   "outputs": [],
   "source": [
    "# fill  here with your code\n"
   ]
  },
  {
   "cell_type": "markdown",
   "metadata": {
    "deletable": false,
    "editable": false,
    "nbgrader": {
     "cell_type": "markdown",
     "checksum": "57bdbb605ddff3e92bd5db09b9515a6d",
     "grade": false,
     "grade_id": "cell-127225e70da3c5ac",
     "locked": true,
     "schema_version": 3,
     "solution": false,
     "task": false
    }
   },
   "source": [
    "Draw the error graph"
   ]
  },
  {
   "cell_type": "code",
   "execution_count": null,
   "metadata": {
    "deletable": false,
    "nbgrader": {
     "cell_type": "code",
     "checksum": "65ab42715a8ff0328ed755562587e854",
     "grade": true,
     "grade_id": "cell-cf12500379013512",
     "locked": false,
     "points": 2,
     "schema_version": 3,
     "solution": true,
     "task": false
    }
   },
   "outputs": [],
   "source": [
    "# fill  here with your code\n"
   ]
  },
  {
   "cell_type": "markdown",
   "metadata": {
    "deletable": false,
    "nbgrader": {
     "cell_type": "markdown",
     "checksum": "69d70dd05ac7da78e44f532ff3433092",
     "grade": true,
     "grade_id": "cell-edc2007b8c288c0a",
     "locked": false,
     "points": 0,
     "schema_version": 3,
     "solution": true,
     "task": false
    }
   },
   "source": [
    "Interpret the two graphs\n",
    "#### double click here then answer in text  or LaTeX or markdown format\n"
   ]
  },
  {
   "cell_type": "markdown",
   "metadata": {
    "deletable": false,
    "editable": false,
    "nbgrader": {
     "cell_type": "markdown",
     "checksum": "b664738f9298f1948cc679016781f500",
     "grade": false,
     "grade_id": "cell-876af384e5707f35",
     "locked": true,
     "schema_version": 3,
     "solution": false,
     "task": false
    }
   },
   "source": [
    "Program functions $f(x)$ and $fprime(x)$ for case 2"
   ]
  },
  {
   "cell_type": "code",
   "execution_count": null,
   "metadata": {
    "deletable": false,
    "nbgrader": {
     "cell_type": "code",
     "checksum": "594465ab83751c92b21601927fe5d136",
     "grade": true,
     "grade_id": "cell-ce860e76c53542e1",
     "locked": false,
     "points": 2,
     "schema_version": 3,
     "solution": true,
     "task": false
    }
   },
   "outputs": [],
   "source": [
    "# fill  here with your code\n"
   ]
  },
  {
   "cell_type": "markdown",
   "metadata": {
    "deletable": false,
    "editable": false,
    "nbgrader": {
     "cell_type": "markdown",
     "checksum": "d43497cf2b4884a61f01c114f6d20af7",
     "grade": false,
     "grade_id": "cell-b1e16fb667cb4100",
     "locked": true,
     "schema_version": 3,
     "solution": false,
     "task": false
    }
   },
   "source": [
    "Draw the exact and approximative derivatives on $[0,\\pi/2]$ for $h=0.1$ "
   ]
  },
  {
   "cell_type": "code",
   "execution_count": null,
   "metadata": {
    "deletable": false,
    "nbgrader": {
     "cell_type": "code",
     "checksum": "218929441abccd65d194b35bf4eeaa2f",
     "grade": true,
     "grade_id": "cell-3f375a0cfc9399cd",
     "locked": false,
     "points": 2,
     "schema_version": 3,
     "solution": true,
     "task": false
    }
   },
   "outputs": [],
   "source": [
    "# fill  here with your code\n"
   ]
  },
  {
   "cell_type": "markdown",
   "metadata": {
    "deletable": false,
    "editable": false,
    "nbgrader": {
     "cell_type": "markdown",
     "checksum": "c730aae0ecd85138cec537ec02635867",
     "grade": false,
     "grade_id": "cell-2a2f6d7e30d7f846",
     "locked": true,
     "schema_version": 3,
     "solution": false,
     "task": false
    }
   },
   "source": [
    "Draw the error graph"
   ]
  },
  {
   "cell_type": "code",
   "execution_count": null,
   "metadata": {
    "deletable": false,
    "nbgrader": {
     "cell_type": "code",
     "checksum": "3e58e704cad3c7e1a6e166d72f94b1ab",
     "grade": true,
     "grade_id": "cell-7305307837b883dc",
     "locked": false,
     "points": 0,
     "schema_version": 3,
     "solution": true,
     "task": false
    }
   },
   "outputs": [],
   "source": [
    "# fill  here with your code\n"
   ]
  },
  {
   "cell_type": "markdown",
   "metadata": {
    "deletable": false,
    "nbgrader": {
     "cell_type": "markdown",
     "checksum": "6acbc4c618a19a54c0ffca7663dfa600",
     "grade": true,
     "grade_id": "cell-4f5a81995a1b68b0",
     "locked": false,
     "points": 0,
     "schema_version": 3,
     "solution": true,
     "task": false
    }
   },
   "source": [
    "Interpret the two graphs\n",
    "#### double click here then answer in text  or LaTeX or markdown format\n"
   ]
  },
  {
   "cell_type": "markdown",
   "metadata": {
    "deletable": false,
    "editable": false,
    "nbgrader": {
     "cell_type": "markdown",
     "checksum": "26914b18de856055c30d192190a04a38",
     "grade": false,
     "grade_id": "cell-c9662c6a9e53019b",
     "locked": true,
     "schema_version": 3,
     "solution": false,
     "task": false
    }
   },
   "source": [
    "Program functions $f(x)$ and $fprime(x)$ for case 3"
   ]
  },
  {
   "cell_type": "code",
   "execution_count": null,
   "metadata": {
    "deletable": false,
    "nbgrader": {
     "cell_type": "code",
     "checksum": "e5b2bba5750bedae8fb4e6118fc92019",
     "grade": true,
     "grade_id": "cell-67822437c3441f9b",
     "locked": false,
     "points": 2,
     "schema_version": 3,
     "solution": true,
     "task": false
    }
   },
   "outputs": [],
   "source": [
    "# fill  here with your code\n"
   ]
  },
  {
   "cell_type": "markdown",
   "metadata": {
    "deletable": false,
    "editable": false,
    "nbgrader": {
     "cell_type": "markdown",
     "checksum": "216b6f4366d976dfa8a8519d734d6a26",
     "grade": false,
     "grade_id": "cell-6d5048484b32fb50",
     "locked": true,
     "schema_version": 3,
     "solution": false,
     "task": false
    }
   },
   "source": [
    "Draw the exact and approximative derivatives on $[0,\\pi/2]$ for $h=0.1$ "
   ]
  },
  {
   "cell_type": "code",
   "execution_count": null,
   "metadata": {
    "deletable": false,
    "nbgrader": {
     "cell_type": "code",
     "checksum": "fd15d1652cc624943b4d28221889582c",
     "grade": true,
     "grade_id": "cell-1fe91e2c4c278807",
     "locked": false,
     "points": 0,
     "schema_version": 3,
     "solution": true,
     "task": false
    }
   },
   "outputs": [],
   "source": [
    "# fill  here with your code\n"
   ]
  },
  {
   "cell_type": "markdown",
   "metadata": {
    "deletable": false,
    "editable": false,
    "nbgrader": {
     "cell_type": "markdown",
     "checksum": "5c2c92b32950dd5dfaf65227f37c4370",
     "grade": false,
     "grade_id": "cell-3eabcb0a3d0893e8",
     "locked": true,
     "schema_version": 3,
     "solution": false,
     "task": false
    }
   },
   "source": [
    "Draw the error graph"
   ]
  },
  {
   "cell_type": "code",
   "execution_count": null,
   "metadata": {
    "deletable": false,
    "nbgrader": {
     "cell_type": "code",
     "checksum": "0446e56e762690d591250c7323dea849",
     "grade": true,
     "grade_id": "cell-3b0ca813278a8318",
     "locked": false,
     "points": 0,
     "schema_version": 3,
     "solution": true,
     "task": false
    }
   },
   "outputs": [],
   "source": [
    "# fill  here with your code\n"
   ]
  },
  {
   "cell_type": "markdown",
   "metadata": {
    "deletable": false,
    "nbgrader": {
     "cell_type": "markdown",
     "checksum": "453b131a26562964de9331d01b8b27b5",
     "grade": true,
     "grade_id": "cell-6353a6bb783b21de",
     "locked": false,
     "points": 2,
     "schema_version": 3,
     "solution": true,
     "task": false
    }
   },
   "source": [
    "Interpret the two graphs\n",
    "#### double click here then answer in text  or LaTeX or markdown format\n"
   ]
  },
  {
   "cell_type": "code",
   "execution_count": null,
   "metadata": {},
   "outputs": [],
   "source": []
  },
  {
   "cell_type": "code",
   "execution_count": null,
   "metadata": {},
   "outputs": [],
   "source": []
  },
  {
   "cell_type": "code",
   "execution_count": null,
   "metadata": {},
   "outputs": [],
   "source": []
  }
 ],
 "metadata": {
  "kernelspec": {
   "display_name": "Python 3 (ipykernel)",
   "language": "python",
   "name": "python3"
  },
  "language_info": {
   "codemirror_mode": {
    "name": "ipython",
    "version": 3
   },
   "file_extension": ".py",
   "mimetype": "text/x-python",
   "name": "python",
   "nbconvert_exporter": "python",
   "pygments_lexer": "ipython3",
   "version": "3.11.5"
  },
  "notebookname": "Fibonacci",
  "version": "1.0"
 },
 "nbformat": 4,
 "nbformat_minor": 4
}
