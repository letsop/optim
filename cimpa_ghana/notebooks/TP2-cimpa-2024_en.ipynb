{
 "cells": [
  {
   "cell_type": "markdown",
   "metadata": {
    "deletable": false,
    "editable": false,
    "nbgrader": {
     "cell_type": "markdown",
     "checksum": "f3ba185a973ed0aa9a67112d3c4ab18c",
     "grade": false,
     "grade_id": "cell-74fa00ec614b60bd",
     "locked": true,
     "schema_version": 3,
     "solution": false,
     "task": false
    }
   },
   "source": [
    "# TP 2 : fixed point and Newton method"
   ]
  },
  {
   "cell_type": "markdown",
   "metadata": {
    "deletable": false,
    "editable": false,
    "nbgrader": {
     "cell_type": "markdown",
     "checksum": "05b6d5a8e3116315ee0aae0388903fc1",
     "grade": false,
     "grade_id": "cell-3af226d8e0a02907",
     "locked": true,
     "schema_version": 3,
     "solution": false,
     "task": false
    }
   },
   "source": [
    "---"
   ]
  },
  {
   "cell_type": "markdown",
   "metadata": {
    "deletable": false,
    "editable": false,
    "nbgrader": {
     "cell_type": "markdown",
     "checksum": "d6de3ef5aceeecb0487d8e7e77e4bd25",
     "grade": false,
     "grade_id": "cell-0",
     "locked": true,
     "schema_version": 3,
     "solution": false,
     "task": false
    }
   },
   "source": [
    "$\\newcommand{\\Rsp}{\\mathbb{R}}\n",
    "\\newcommand{\\N}{\\mathbb{N}}\n",
    "\\newcommand{\\nr}[1]{\\|#1\\|}\n",
    "\\newcommand{\\abs}[1]{|#1|}\n",
    "\\renewcommand{\\epsilon}{\\varepsilon}\n",
    "\\newcommand{\\sca}[2]{\\langle#1|#2\\rangle}\n",
    "\\newcommand{\\D}{\\mathrm{D}}\n",
    "\\newcommand{\\hdots}{\\dots}\n",
    "\\newcommand{\\cond}{\\mathrm{cond}}$"
   ]
  },
  {
   "cell_type": "markdown",
   "metadata": {
    "deletable": false,
    "editable": false,
    "nbgrader": {
     "cell_type": "markdown",
     "checksum": "96872fd0c1e7da25ca4e6cded1eb3bfb",
     "grade": false,
     "grade_id": "cell-df91789dfbe3490b",
     "locked": true,
     "schema_version": 3,
     "solution": false,
     "task": false
    }
   },
   "source": [
    "You will use this notebook to answer the exercises. You can add text (markdown) or code cells as you see fit, but you are not allowed to delete cells.\n",
    "\n"
   ]
  },
  {
   "cell_type": "markdown",
   "metadata": {
    "deletable": false,
    "nbgrader": {
     "cell_type": "markdown",
     "checksum": "f0d48cae21f0e5002b22793b9d14f43f",
     "grade": true,
     "grade_id": "cell-40475301a469c933",
     "locked": false,
     "points": 1,
     "schema_version": 3,
     "solution": true,
     "task": false
    }
   },
   "source": [
    "Type in this cell the number of the team and the names of the participating students:\n",
    "#### double click here then answer in text  or LaTeX or markdown format"
   ]
  },
  {
   "cell_type": "code",
   "execution_count": null,
   "metadata": {
    "deletable": false,
    "editable": false,
    "nbgrader": {
     "cell_type": "code",
     "checksum": "d719dfb5138fca42b997dc9fc0c5b920",
     "grade": false,
     "grade_id": "cell-9bb4cb396a38c1ba",
     "locked": true,
     "schema_version": 3,
     "solution": false,
     "task": false
    }
   },
   "outputs": [],
   "source": [
    "import numpy as np\n",
    "import matplotlib.pyplot as plt"
   ]
  },
  {
   "cell_type": "markdown",
   "metadata": {
    "deletable": false,
    "editable": false,
    "nbgrader": {
     "cell_type": "markdown",
     "checksum": "b70f21371af0daa6394e74de12d786a6",
     "grade": false,
     "grade_id": "cell-09c83cd600db1ae8",
     "locked": true,
     "schema_version": 3,
     "solution": false,
     "task": false
    }
   },
   "source": [
    "## Exercise 1 : Fixed point search\n",
    "\n",
    "The author of the original french version for the fixed point exercises of this notebook is Fabien Vergnet (Sorbonne Universite)\n",
    " \n",
    "We wish to calculate an approximate value of a fixed point of a contracting function $g$ from a given point $x_{0}$. We will use the iterative method seen in class, that is to say, consider the iterations\n",
    "$$\n",
    "x_{n+1}=g(x_n).\n",
    "$$\n",
    "\n",
    "### Question 1\n",
    "We want to calculate the fixed point with a given precision and we want to define a stopping criterion for this algorithm.\n",
    "\n",
    "Suppose there exists $n_0\\in\\N$ such that $|x_{n_0+1}-x_{n_0}| < \\epsilon$.\n",
    "  1. Show that for all $n\\geq n_0$, $|x_{n+1}-x_{n}| < k^{n-n_0}\\epsilon$, with $k>0$.\n",
    "  2. Show that for all $n\\geq n_0$ and for all $p\\geq 1$, $|x_{n+p}-x_n| < k^{n-n_0}\\sum_{q=0}^{p-1} k^q \\epsilon$.\n",
    "  3. Then define a stopping criterion for this fixed point algorithm.\n",
    "     "
   ]
  },
  {
   "cell_type": "markdown",
   "metadata": {
    "deletable": false,
    "nbgrader": {
     "cell_type": "markdown",
     "checksum": "235c8764b8be689671317bf006a2ad3f",
     "grade": true,
     "grade_id": "cell-0de18054ccdbf2c8",
     "locked": false,
     "points": 2,
     "schema_version": 3,
     "solution": true,
     "task": false
    }
   },
   "source": [
    "#### double click here then answer in text  or LaTeX or markdown format"
   ]
  },
  {
   "cell_type": "markdown",
   "metadata": {
    "deletable": false,
    "editable": false,
    "nbgrader": {
     "cell_type": "markdown",
     "checksum": "b0b79656bd530a92b0003c28be911e04",
     "grade": false,
     "grade_id": "cell-b5c9ee9287c8a2fc",
     "locked": true,
     "schema_version": 3,
     "solution": false,
     "task": false
    }
   },
   "source": [
    "### Question 2\n",
    "Define the $fixedpoint$ function which takes as argument:\n",
    "- the initial condition $x_0$,\n",
    "- the precision $\\epsilon$,\n",
    "- the $g$ function\n",
    "\n",
    "and which returns:\n",
    "- a value approximating a fixed point of $g$ and\n",
    "- the number of iterations necessary to reach the precision $\\epsilon$."
   ]
  },
  {
   "cell_type": "code",
   "execution_count": null,
   "metadata": {
    "deletable": false,
    "nbgrader": {
     "cell_type": "code",
     "checksum": "0889ccede7d5324a76ac12af02b515b6",
     "grade": true,
     "grade_id": "cell-58703241308d898d",
     "locked": false,
     "points": 1,
     "schema_version": 3,
     "solution": true,
     "task": false
    }
   },
   "outputs": [],
   "source": [
    "def fixedpoint(x0,eps,g):\n",
    "    # fill  here with your code\n"
   ]
  },
  {
   "cell_type": "markdown",
   "metadata": {
    "deletable": false,
    "editable": false,
    "nbgrader": {
     "cell_type": "markdown",
     "checksum": "5e94c45fc47f69c9693335224c4d4917",
     "grade": false,
     "grade_id": "cell-367126c9d1a3a3dc",
     "locked": true,
     "schema_version": 3,
     "solution": false,
     "task": false
    }
   },
   "source": [
    "### Question 3\n",
    "We consider the function $g(x)=2\\sin(x)$ on $[-2,2]$. Represent the graph of this function as well as the line $y=x$. "
   ]
  },
  {
   "cell_type": "code",
   "execution_count": null,
   "metadata": {
    "deletable": false,
    "nbgrader": {
     "cell_type": "code",
     "checksum": "225a7e0ad35462150cc48b8c95aba8c8",
     "grade": true,
     "grade_id": "cell-f3aca5a33dca7d09",
     "locked": false,
     "points": 1,
     "schema_version": 3,
     "solution": true,
     "task": false
    }
   },
   "outputs": [],
   "source": [
    "N = 100\n",
    "X = np.linspace(-2,2,N) \n",
    "\n",
    "# fill  here with your code"
   ]
  },
  {
   "cell_type": "markdown",
   "metadata": {
    "deletable": false,
    "nbgrader": {
     "cell_type": "markdown",
     "checksum": "31a69aee7cd36341ffbb3c279b98e41e",
     "grade": true,
     "grade_id": "cell-a33e23867beab548",
     "locked": false,
     "points": 1,
     "schema_version": 3,
     "solution": true,
     "task": false
    }
   },
   "source": [
    "How many a priori fixed points does $g$ have?\n",
    "\n",
    "#### double click here then answer in text  or LaTeX or markdown format"
   ]
  },
  {
   "cell_type": "markdown",
   "metadata": {
    "deletable": false,
    "editable": false,
    "nbgrader": {
     "cell_type": "markdown",
     "checksum": "1982463531a5f4b6d2e1b216d871cca6",
     "grade": false,
     "grade_id": "cell-46add975405868ef",
     "locked": true,
     "schema_version": 3,
     "solution": false,
     "task": false
    }
   },
   "source": [
    "### Question 4\n",
    "Apply the fixed point algorithm to find the fixed points of the $g$ function, for an $x_{0}$ in $[1.5,2]$.\n",
    " "
   ]
  },
  {
   "cell_type": "code",
   "execution_count": null,
   "metadata": {
    "deletable": false,
    "nbgrader": {
     "cell_type": "code",
     "checksum": "88d8f5675e4313d70e636004f1c63b5e",
     "grade": true,
     "grade_id": "cell-9b04859e63c3d7ca",
     "locked": false,
     "points": 1,
     "schema_version": 3,
     "solution": true,
     "task": false
    }
   },
   "outputs": [],
   "source": [
    "# fill  here with your code"
   ]
  },
  {
   "cell_type": "markdown",
   "metadata": {
    "deletable": false,
    "editable": false,
    "nbgrader": {
     "cell_type": "markdown",
     "checksum": "88c790020f53e54d90a4455db5253d29",
     "grade": false,
     "grade_id": "cell-e7bec597648d9b21",
     "locked": true,
     "schema_version": 3,
     "solution": false,
     "task": false
    }
   },
   "source": [
    "### Question 5\n",
    "The point $0$ is also a fixed point of $g$.\n",
    "- Apply the fixed point algorithm to $g$ by taking $x_{0}=0.01$ then $x_{0}=-0.01$.\n"
   ]
  },
  {
   "cell_type": "code",
   "execution_count": null,
   "metadata": {
    "deletable": false,
    "nbgrader": {
     "cell_type": "code",
     "checksum": "a8b49377606d76aada86dc828bf27263",
     "grade": true,
     "grade_id": "cell-ea878f5e284c84b6",
     "locked": false,
     "points": 1,
     "schema_version": 3,
     "solution": true,
     "task": false
    }
   },
   "outputs": [],
   "source": [
    "# fill  here with your code"
   ]
  },
  {
   "cell_type": "markdown",
   "metadata": {
    "deletable": false,
    "nbgrader": {
     "cell_type": "markdown",
     "checksum": "b07715605cba4cc7994ce1def9fd55b8",
     "grade": true,
     "grade_id": "cell-1e62d189d5d43b7e",
     "locked": false,
     "points": 1,
     "schema_version": 3,
     "solution": true,
     "task": false
    }
   },
   "source": [
    "What is going on ? Explain.\n",
    "\n",
    "#### double click here then answer in text  or LaTeX or markdown format"
   ]
  },
  {
   "cell_type": "markdown",
   "metadata": {
    "deletable": false,
    "editable": false,
    "nbgrader": {
     "cell_type": "markdown",
     "checksum": "d23e78bb3f9813f64f075cc1577363c5",
     "grade": false,
     "grade_id": "cell-e6f0e626a840dee8",
     "locked": true,
     "schema_version": 3,
     "solution": false,
     "task": false
    }
   },
   "source": [
    "#  Exercise 2 : Newton method"
   ]
  },
  {
   "cell_type": "markdown",
   "metadata": {
    "deletable": false,
    "editable": false,
    "nbgrader": {
     "cell_type": "markdown",
     "checksum": "38f6426e608bf58fc7e011cf48c74eb6",
     "grade": false,
     "grade_id": "cell-eac46954ed8377f0",
     "locked": true,
     "schema_version": 3,
     "solution": false,
     "task": false
    }
   },
   "source": [
    "In this exercice we implement the scalar Newton method to solve a non linear equation \n",
    "$$g(x)=0$$ \n",
    "we suppose that the function $g$ is at least $C^1$.\n",
    "\n",
    "\n",
    " the scalar Newton algorithm\n",
    "<UL>\n",
    "<li> tolerance $\\varepsilon$\n",
    "<li> maximum number of iterations $k_{\\max}$\n",
    " <li>  $k=0$, $x_0$ initial approximation of the solution of $g(x)=0.$\n",
    " <li> While{$|g(x_k)|>\\varepsilon$ and $k\\leq k_{\\max}$\n",
    "<UL>     \n",
    " <li>   $ x_{k+1} = x_k-\\dfrac{g(x_k)}{g'(x_k)}$\n",
    " <li>   $k\\leftarrow k+1$\n",
    "</UL>  $x^\\star\\leftarrow x_k$\n",
    "</UL>"
   ]
  },
  {
   "cell_type": "markdown",
   "metadata": {
    "deletable": false,
    "editable": false,
    "nbgrader": {
     "cell_type": "markdown",
     "checksum": "381a6a4df1601a7ccd849b8c0c5fc574",
     "grade": false,
     "grade_id": "cell-afe89f9b8af327c6",
     "locked": true,
     "schema_version": 3,
     "solution": false,
     "task": false
    }
   },
   "source": [
    "### Question 1. \n",
    "Define the $Newton$ function which takes as argument:\n",
    "- the initial condition $x_0$,\n",
    "- the precision $\\varepsilon$,\n",
    "- the names $g$ and $gprime$ of the functions defining $g(x)$ and $g'(x)$\n",
    "\n",
    "and which returns:\n",
    "- a value approximating a zero  of $g$ and\n",
    "- the corresponding  value  of $g$ (should be lower than $\\varepsilon$ if the algorithm has converged)\n",
    "- the number of ierations necessary to reach the precision $\\varepsilon$."
   ]
  },
  {
   "cell_type": "code",
   "execution_count": null,
   "metadata": {
    "deletable": false,
    "nbgrader": {
     "cell_type": "code",
     "checksum": "65bbd570cb4b7b0ac7f69be10d91f275",
     "grade": true,
     "grade_id": "cell-d8dc75f08cdf495a",
     "locked": false,
     "points": 2,
     "schema_version": 3,
     "solution": true,
     "task": false
    }
   },
   "outputs": [],
   "source": [
    "def Newton(x0,eps,g,gprime):\n",
    "    # fill  here with your code"
   ]
  },
  {
   "cell_type": "markdown",
   "metadata": {
    "deletable": false,
    "editable": false,
    "nbgrader": {
     "cell_type": "markdown",
     "checksum": "00ba70e2c1f7a16498ed8a9d8f9eae04",
     "grade": false,
     "grade_id": "cell-023d3d07da849459",
     "locked": true,
     "schema_version": 3,
     "solution": false,
     "task": false
    }
   },
   "source": [
    "### Question 2. \n",
    "Test the algorithm on  the function $g_1(x)=(x-1)e^{-(x-1)^2}$ \n",
    "with starting points $x_0\\in\\{0.45,0.5,0.55,1.5,2.5,3.5\\}$\n",
    "and a tolerance $\\varepsilon=10^{-10}$"
   ]
  },
  {
   "cell_type": "code",
   "execution_count": null,
   "metadata": {
    "deletable": false,
    "nbgrader": {
     "cell_type": "code",
     "checksum": "2dcef1804a01a33fbd2b4f963e0539d1",
     "grade": true,
     "grade_id": "cell-837cce2a22b1ea68",
     "locked": false,
     "points": 2,
     "schema_version": 3,
     "solution": true,
     "task": false
    }
   },
   "outputs": [],
   "source": [
    "# fill  here with your code"
   ]
  },
  {
   "cell_type": "markdown",
   "metadata": {
    "deletable": false,
    "nbgrader": {
     "cell_type": "markdown",
     "checksum": "c504c6bfe43ad23abdc8ad61732cd577",
     "grade": true,
     "grade_id": "cell-175ed8e29187c0da",
     "locked": false,
     "points": 2,
     "schema_version": 3,
     "solution": true,
     "task": false
    }
   },
   "source": [
    "### Question 3. \n",
    "Explain the results \n",
    "\n",
    "#### double click here then answer in text  or LaTeX or markdown format"
   ]
  },
  {
   "cell_type": "markdown",
   "metadata": {
    "deletable": false,
    "editable": false,
    "nbgrader": {
     "cell_type": "markdown",
     "checksum": "e416bb571fe32be44c957c6510998cfb",
     "grade": false,
     "grade_id": "cell-ef21db86396a2018",
     "locked": true,
     "schema_version": 3,
     "solution": false,
     "task": false
    }
   },
   "source": [
    "# Newton-Ralphson method"
   ]
  },
  {
   "cell_type": "markdown",
   "metadata": {
    "deletable": false,
    "editable": false,
    "nbgrader": {
     "cell_type": "markdown",
     "checksum": "da611215fea4f5ca220f066f219dc739",
     "grade": false,
     "grade_id": "cell-8803decd06095b92",
     "locked": true,
     "schema_version": 3,
     "solution": false,
     "task": false
    }
   },
   "source": [
    "The Newton-Ralphson method is the generalisation of the Newton method in the vector case\n",
    "In order to program it  in Python, you need programming tools for current operations in linear algebra, operations on vector and matrices. \n",
    "\n",
    "\n",
    "For example in the following cell, , \n",
    " we define a matrix A and a vector X with np.array. We calculate the product B = AX with np.dot, we\n",
    "solve the system A Y = B with np.linalg.solve then we compare Y with X.\n",
    "\n",
    "Note the convention for rows and columns of a matrix, to be observed in the definition of the Jacobian matrix of a function. "
   ]
  },
  {
   "cell_type": "code",
   "execution_count": null,
   "metadata": {
    "deletable": false,
    "editable": false,
    "nbgrader": {
     "cell_type": "code",
     "checksum": "a17d38845fbdd5f29e471d972acf20c9",
     "grade": false,
     "grade_id": "cell-7f5dc59cad9c2a19",
     "locked": true,
     "schema_version": 3,
     "solution": false,
     "task": false
    }
   },
   "outputs": [],
   "source": [
    "A=np.array([[1.,2.],[3.,5.]])\n",
    "X=np.array([1.,2.])\n",
    "B=A.dot(X)\n",
    "Y = np.linalg.solve(A,B)\n",
    "print (A,B)\n",
    "print (X)\n",
    "print (Y)\n"
   ]
  },
  {
   "cell_type": "markdown",
   "metadata": {
    "deletable": false,
    "editable": false,
    "nbgrader": {
     "cell_type": "markdown",
     "checksum": "7fe27af2541494b752f7c033225a15a2",
     "grade": false,
     "grade_id": "cell-d92722be4e649fa1",
     "locked": true,
     "schema_version": 3,
     "solution": false,
     "task": false
    }
   },
   "source": [
    "### Question 4. \n",
    "Program a function $NewtonRalphson(x0,eps,G,JG)$ taking as input arguments\n",
    "- the initial condition $x_0$,\n",
    "- the precision $\\varepsilon$,\n",
    "- the names $G$ and $JG$ of the functions defining $G(x)$ and the Jacobian matrix of $g(x)$ denoted $JG(x)$\n",
    "\n",
    "and which returns:\n",
    "- a numpy array approximating a zero  of $G$ and\n",
    "- the corresponding  value  of $G$ (its norm should be lower than $\\varepsilon$ if the algorithm has converged)\n",
    "- the number of iterations necessary to reach the precision $\\varepsilon$.\n",
    "\n",
    "  \n",
    "The Newton Ralphson algorithm has been seen in class :\n",
    "  \n",
    "<UL>\n",
    "      <LI>Initialize $k=0$, $x_0$</LI>\n",
    "      <LI>While $||G(x_k)||>\\varepsilon$ and $k\\leq k_{\\max}$\n",
    "      <UL>\n",
    "          <LI>Solve  $JG(x_k) d_{k}=-G(x_k)$</LI>\n",
    "<li>$x_{k+1}= x_{k}+d_k$</li>\n",
    "  <LI>$k\\leftarrow k+1$</LI>\n",
    "      </UL>\n",
    "      </LI>\n",
    "  <li>$x^\\star\\leftarrow x_k$</li>\n",
    "  </UL> \n",
    "\n"
   ]
  },
  {
   "cell_type": "code",
   "execution_count": null,
   "metadata": {
    "deletable": false,
    "nbgrader": {
     "cell_type": "code",
     "checksum": "127eb0bc2c4cc97e5906b45186fc7456",
     "grade": true,
     "grade_id": "cell-262f89076472f72d",
     "locked": false,
     "points": 2,
     "schema_version": 3,
     "solution": true,
     "task": false
    }
   },
   "outputs": [],
   "source": [
    "def NewtonRalphson(X0,eps,G,JG):\n",
    "# call arguments\n",
    "# X0: (np.array n components), starting point for the Newton-Ralphson algorithm\n",
    "# eps: tolerance for convergence\n",
    "# G: identifier of the function from R^n in R^n whose root we are looking for\n",
    "# the call syntax is [Y] = G (X) with\n",
    "# Y (np.array n components) the value of the function G in X (vector of R ^ n)\n",
    "# JG: identifier of the function from R^n in R^nxn calculating the Jacobian of G\n",
    "# the call syntax is [J] = JG (X) with\n",
    "# J its jacobian matrix (nxn) in X (np.array nxn components)\n",
    "# output arguments\n",
    "# Xstar: value of the root found by Newton-Ralphson\n",
    "# Gstar: value of function G in Xstar\n",
    "# nb_iter: number of iterations performed\n",
    "# ...\n",
    "# fill  here with your code"
   ]
  },
  {
   "cell_type": "markdown",
   "metadata": {
    "deletable": false,
    "editable": false,
    "nbgrader": {
     "cell_type": "markdown",
     "checksum": "e1a732c0834238bed69c690eed7975f9",
     "grade": false,
     "grade_id": "cell-f70c3c6a66d5b443",
     "locked": true,
     "schema_version": 3,
     "solution": false,
     "task": false
    }
   },
   "source": [
    "### Question 5. \n",
    "Test case: we consider the function  \n",
    "$G_{test}:R^2\\rightarrow R^2$, \n",
    "\n",
    "$G_{test}(X)=\\nabla f(X)$ with $f(X)=(X_1-1)^2+(X_2-2)^4$\n",
    " \n",
    "Compute (on paper) $G_{test}(X)$ and its jacobian matrix $JG_{test}(X)$.  \n",
    " \n",
    "Program in G\\_test and JG\\_test\n"
   ]
  },
  {
   "cell_type": "code",
   "execution_count": null,
   "metadata": {
    "deletable": false,
    "nbgrader": {
     "cell_type": "code",
     "checksum": "0a95ddb7784099b8b5477fca210850f1",
     "grade": true,
     "grade_id": "cell-83faf3faa2ae8d94",
     "locked": false,
     "points": 1,
     "schema_version": 3,
     "solution": true,
     "task": false
    }
   },
   "outputs": [],
   "source": [
    "def G_test(X):\n",
    "# fill  here with your code"
   ]
  },
  {
   "cell_type": "code",
   "execution_count": null,
   "metadata": {
    "deletable": false,
    "nbgrader": {
     "cell_type": "code",
     "checksum": "94d76d03de944fb81d4b3a90d61fe24d",
     "grade": true,
     "grade_id": "cell-888547bd83938f81",
     "locked": false,
     "points": 1,
     "schema_version": 3,
     "solution": true,
     "task": false
    }
   },
   "outputs": [],
   "source": [
    "def JG_test(X):\n",
    "# fill  here with your code"
   ]
  },
  {
   "cell_type": "markdown",
   "metadata": {
    "deletable": false,
    "editable": false,
    "nbgrader": {
     "cell_type": "markdown",
     "checksum": "20f5024b163e789c19ea4334b409b749",
     "grade": false,
     "grade_id": "cell-5b7a850f3d40c164",
     "locked": true,
     "schema_version": 3,
     "solution": false,
     "task": false
    }
   },
   "source": [
    "### Question 6. \n",
    "\n",
    "Define a starting point $X0$, a tolerance $\\varepsilon$\n",
    "\n",
    "Call the $NewtonRalphson$ function\n",
    "\n",
    "Print the root found for $G(X)=0$"
   ]
  },
  {
   "cell_type": "code",
   "execution_count": null,
   "metadata": {
    "deletable": false,
    "nbgrader": {
     "cell_type": "code",
     "checksum": "7ec54dbc7d098b55e4b6cdb6cf05e513",
     "grade": true,
     "grade_id": "cell-6d94fade38bc799a",
     "locked": false,
     "points": 2,
     "schema_version": 3,
     "solution": true,
     "task": false
    }
   },
   "outputs": [],
   "source": [
    "# fill  here with your code\n"
   ]
  },
  {
   "cell_type": "markdown",
   "metadata": {
    "deletable": false,
    "editable": false,
    "nbgrader": {
     "cell_type": "markdown",
     "checksum": "920e6e0f4943e7cdd3a2c8d78b5ecbca",
     "grade": false,
     "grade_id": "cell-eababa6c72f78442",
     "locked": true,
     "schema_version": 3,
     "solution": false,
     "task": false
    }
   },
   "source": [
    "# Visualisation of  attraction basins of roots for an equation in  $\\mathbb{C}$"
   ]
  },
  {
   "cell_type": "markdown",
   "metadata": {
    "deletable": false,
    "editable": false,
    "nbgrader": {
     "cell_type": "markdown",
     "checksum": "978e1099c7c91f1e1468acc293ffbd12",
     "grade": false,
     "grade_id": "cell-26b0c1c5cd146748",
     "locked": true,
     "schema_version": 3,
     "solution": false,
     "task": false
    }
   },
   "source": [
    "### Question 7. \n",
    "Finding the roots of a polynomial equation of degree 3 in $\\mathbb{C}$\n",
    "\n",
    "Calculate (on paper) the roots $(r_i)_{i=1,2,3}$ of $x^3=1$ in $\\mathbb{C}$\n",
    "\n",
    "Define a numpy array $Roots$ of 3 rows containing the real and imaginary parts of the 3 roots.\n",
    "\n",
    "\n"
   ]
  },
  {
   "cell_type": "code",
   "execution_count": null,
   "metadata": {
    "deletable": false,
    "nbgrader": {
     "cell_type": "code",
     "checksum": "48032837fb892510d741d84ac21284ad",
     "grade": true,
     "grade_id": "cell-bf1c2c03ec6f1c02",
     "locked": false,
     "points": 1,
     "schema_version": 3,
     "solution": true,
     "task": false
    }
   },
   "outputs": [],
   "source": [
    "# fill  here with your code"
   ]
  },
  {
   "cell_type": "markdown",
   "metadata": {
    "deletable": false,
    "editable": false,
    "nbgrader": {
     "cell_type": "markdown",
     "checksum": "e9ba7cd1fc4af2f3493ba75283b02a3c",
     "grade": false,
     "grade_id": "cell-92d5f3530328dc95",
     "locked": true,
     "schema_version": 3,
     "solution": false,
     "task": false
    }
   },
   "source": [
    "### Question 8.\n",
    "Display the unit circle and the roots with red crosses"
   ]
  },
  {
   "cell_type": "code",
   "execution_count": null,
   "metadata": {
    "deletable": false,
    "nbgrader": {
     "cell_type": "code",
     "checksum": "dfca3762139e04fe065f392b5c300baa",
     "grade": true,
     "grade_id": "cell-da9e3ce0b42e9c5d",
     "locked": false,
     "points": 1,
     "schema_version": 3,
     "solution": true,
     "task": false
    }
   },
   "outputs": [],
   "source": [
    "from matplotlib.patches import Circle\n",
    "# fill  here with your code"
   ]
  },
  {
   "cell_type": "markdown",
   "metadata": {
    "deletable": false,
    "editable": false,
    "nbgrader": {
     "cell_type": "markdown",
     "checksum": "880afd2281722e1deaf164039ff3e34a",
     "grade": false,
     "grade_id": "cell-b454dacc2f75a1ba",
     "locked": true,
     "schema_version": 3,
     "solution": false,
     "task": false
    }
   },
   "source": [
    "### Question 9.\n",
    "Let $\\varphi(x)=x^3-1$.\n",
    "\n",
    "On paper :\n",
    "\n",
    "Express $y=\\varphi(x)$ in the form $y=y_1+iy_2$ as a function of $x_1,x_2$ with $x=x_1+ix_2$.\n",
    "\n",
    "We consider the function $\\phi:R^2\\rightarrow R^2$ which to $X=(x_1,x_2)^T$ associates $Y=(y_1,y_2)^T=\\varphi(x_1+ix_2)$ .\n",
    "\n",
    "Calculate the Jacobian matrix $Jphi(X)$ of $\\phi(X)$."
   ]
  },
  {
   "cell_type": "markdown",
   "metadata": {
    "deletable": false,
    "editable": false,
    "nbgrader": {
     "cell_type": "markdown",
     "checksum": "c7084080e70bf3a6914ec9fd3cbb2893",
     "grade": false,
     "grade_id": "cell-db418e79b4ee5714",
     "locked": true,
     "schema_version": 3,
     "solution": false,
     "task": false
    }
   },
   "source": [
    "In the following cell, program  functions $phi(X)$ and $Jphi(X)$, as you did for  $G_{test}$ and $JG_{test}$."
   ]
  },
  {
   "cell_type": "code",
   "execution_count": null,
   "metadata": {
    "deletable": false,
    "nbgrader": {
     "cell_type": "code",
     "checksum": "87ef955e3af1c443a3d7e0d88b78cbc6",
     "grade": true,
     "grade_id": "cell-2152141eb0c8d488",
     "locked": false,
     "points": 1,
     "schema_version": 3,
     "solution": true,
     "task": false
    }
   },
   "outputs": [],
   "source": [
    "def phi(X):\n",
    "    # fill  here with your code\n",
    "    "
   ]
  },
  {
   "cell_type": "code",
   "execution_count": null,
   "metadata": {
    "deletable": false,
    "nbgrader": {
     "cell_type": "code",
     "checksum": "0f5cee91b80f61f950773f8ee3de2592",
     "grade": true,
     "grade_id": "cell-87c4efe34bc3a924",
     "locked": false,
     "points": 1,
     "schema_version": 3,
     "solution": true,
     "task": false
    }
   },
   "outputs": [],
   "source": [
    "def Jphi(X):\n",
    "    # fill  here with your code\n",
    "   "
   ]
  },
  {
   "cell_type": "markdown",
   "metadata": {
    "deletable": false,
    "editable": false,
    "nbgrader": {
     "cell_type": "markdown",
     "checksum": "08b7a7963edc782d050ebed2bd6168e3",
     "grade": false,
     "grade_id": "cell-8579d89a2ad3cd2d",
     "locked": true,
     "schema_version": 3,
     "solution": false,
     "task": false
    }
   },
   "source": [
    "### Question 10. \n",
    "Check that we can find the roots of the equation $x^3=1$ in $\\mathbb{C}$ by calling the NewtonRalphson function with the functions $phi$ and $Jphi$ as third and fourth arguments, and different starting points $X0$. Print  these checks.\n"
   ]
  },
  {
   "cell_type": "code",
   "execution_count": null,
   "metadata": {
    "deletable": false,
    "nbgrader": {
     "cell_type": "code",
     "checksum": "44b0608a81bfb0b790fafe46d2940669",
     "grade": true,
     "grade_id": "cell-a65cb6a5cd97d719",
     "locked": false,
     "points": 2,
     "schema_version": 3,
     "solution": true,
     "task": false
    }
   },
   "outputs": [],
   "source": [
    "# fill  here with your code\n"
   ]
  },
  {
   "cell_type": "markdown",
   "metadata": {
    "deletable": false,
    "editable": false,
    "nbgrader": {
     "cell_type": "markdown",
     "checksum": "e8650f3522ec9dfb821e851b3a44ec62",
     "grade": false,
     "grade_id": "cell-42b1008defe41ca4",
     "locked": true,
     "schema_version": 3,
     "solution": false,
     "task": false
    }
   },
   "source": [
    "### Question Bonus : \n",
    "Visualization of basins of attraction (To learn more about the nature of the boundary between basins of attraction:\n",
    "(http://images.math.cnrs.fr/La-methode-de-Newton-et-son.html)):\n",
    "\n",
    "\n",
    "We note $x^\\star(x_0)\\in \\mathbb{C}$ the root to which Newton's algorithm converges from $x_0\\in \\mathbb{C}$. We discretize a zone encompassing the three roots and we assign a color code to each point in the zone, corresponding to the root towards which we converge with Newton starting from this point.\n",
    "\n",
    "Program the following algorithm\n",
    "\n",
    "\n",
    "Input: The function $\\phi: \\mathbb{R}^2\\longrightarrow \\mathbb{R}$, its Jacobian $J\\phi~:\\mathbb{R}^2\\longrightarrow \\mathbb{R}^{2x2}$, Array $r\\in \\mathbb{R}^{2\\times 3}$,~ $\\phi(r_{.,k})=0$, for $k=1,2,3$\n",
    "\n",
    "Results: Figure representing the basins of attraction of the roots of $\\phi$\n",
    "\n",
    "Initialization: $N=5$, $h=1.5/N$ (we can increase $N$ once sure that the program is running)\n",
    "\n",
    "Double loop $m=-N\\nearrow N$, $n=-N\\nearrow N$\n",
    "<ul>\n",
    "      <li>Calculate $x_{m,n}=x^*(mh+inh)$ the Newton Ralphson solution starting from mh+inh</li>\n",
    "      <li>Calculate $C_{m,n}=argmin_{k=1,2,3} ||x_{m,n}-r_{.,k}||^2$</li> \n",
    "</ul>\n",
    "     \n",
    "Use the plt.imshow function to visualize the $C$ matrix (see example below)"
   ]
  },
  {
   "cell_type": "code",
   "execution_count": null,
   "metadata": {
    "deletable": false,
    "editable": false,
    "nbgrader": {
     "cell_type": "code",
     "checksum": "d9a56c84cdc88a7b8d18dbff367ddd06",
     "grade": false,
     "grade_id": "cell-1b72b7d6d1aaef97",
     "locked": true,
     "schema_version": 3,
     "solution": false,
     "task": false
    }
   },
   "outputs": [],
   "source": [
    "#example  of utilisation of imshow\n",
    "import math\n",
    "C=[]\n",
    "for i in range(5):\n",
    "    C.append([])\n",
    "    for j in range(6):\n",
    "        C[i].append(0.6*i+math.sin(4*j))       \n",
    "plt.imshow(C)\n",
    "plt.show()\n",
    "\n"
   ]
  },
  {
   "cell_type": "markdown",
   "metadata": {
    "deletable": false,
    "editable": false,
    "nbgrader": {
     "cell_type": "markdown",
     "checksum": "1cca653517970f3fd39ef4c30532934f",
     "grade": false,
     "grade_id": "cell-6511d8055f6cfe83",
     "locked": true,
     "schema_version": 3,
     "solution": false,
     "task": false
    }
   },
   "source": [
    "To find the index of the smallest component of an array you can use the function numpy $where$ as in the exemple below"
   ]
  },
  {
   "cell_type": "code",
   "execution_count": null,
   "metadata": {
    "deletable": false,
    "editable": false,
    "nbgrader": {
     "cell_type": "code",
     "checksum": "2748cb9fe9a67229be82f229df3d2fce",
     "grade": false,
     "grade_id": "cell-0bc1c88b12c47304",
     "locked": true,
     "schema_version": 3,
     "solution": false,
     "task": false
    }
   },
   "outputs": [],
   "source": [
    "# the array Roots has been defined above\n",
    "# we want to find which of the 3 roots is closer to a point X\n",
    "X=np.array([-2,1])\n",
    "# first we compute in p  the 3 distances of X to the roots\n",
    "p=np.linalg.norm(Roots-X,axis=1) \n",
    "# we find the index of p corresponding to the smallest component\n",
    "index=np.where(p==p.min())[0][0]\n",
    "print(\"The closest root to X is root number \",index)\n"
   ]
  },
  {
   "cell_type": "code",
   "execution_count": null,
   "metadata": {
    "deletable": false,
    "nbgrader": {
     "cell_type": "code",
     "checksum": "523e3b023d444548842ab358379db246",
     "grade": true,
     "grade_id": "cell-371b950c79fd65d2",
     "locked": false,
     "points": 4,
     "schema_version": 3,
     "solution": true,
     "task": false
    }
   },
   "outputs": [],
   "source": [
    "# Now try to combine all these ingredients to display the basins of attraction of the roots \n",
    "#\n",
    "# fill  here with your code"
   ]
  },
  {
   "cell_type": "code",
   "execution_count": null,
   "metadata": {},
   "outputs": [],
   "source": []
  },
  {
   "cell_type": "code",
   "execution_count": null,
   "metadata": {},
   "outputs": [],
   "source": []
  },
  {
   "cell_type": "code",
   "execution_count": null,
   "metadata": {},
   "outputs": [],
   "source": []
  }
 ],
 "metadata": {
  "kernelspec": {
   "display_name": "Python 3 (ipykernel)",
   "language": "python",
   "name": "python3"
  },
  "language_info": {
   "codemirror_mode": {
    "name": "ipython",
    "version": 3
   },
   "file_extension": ".py",
   "mimetype": "text/x-python",
   "name": "python",
   "nbconvert_exporter": "python",
   "pygments_lexer": "ipython3",
   "version": "3.11.5"
  }
 },
 "nbformat": 4,
 "nbformat_minor": 4
}
