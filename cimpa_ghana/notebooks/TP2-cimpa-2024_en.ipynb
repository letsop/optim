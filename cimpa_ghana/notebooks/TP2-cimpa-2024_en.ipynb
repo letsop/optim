{
 "cells": [
  {
   "cell_type": "markdown",
   "metadata": {
    "deletable": false,
    "nbgrader": {
     "grade": false,
     "grade_id": "cell-74fa00ec614b60bd",
     "locked": true,
     "schema_version": 3,
     "solution": false,
     "task": false
    }
   },
   "source": [
    "# TP 2 : fixed point and Newton method"
   ]
  },
  {
   "cell_type": "markdown",
   "metadata": {
    "deletable": false,
    "nbgrader": {
     "grade": false,
     "grade_id": "cell-3af226d8e0a02907",
     "locked": true,
     "schema_version": 3,
     "solution": false,
     "task": false
    }
   },
   "source": [
    "---"
   ]
  },
  {
   "cell_type": "markdown",
   "metadata": {
    "deletable": false,
    "nbgrader": {
     "grade": false,
     "grade_id": "cell-0",
     "locked": true,
     "schema_version": 3,
     "solution": false,
     "task": false
    }
   },
   "source": [
    "$\\newcommand{\\Rsp}{\\mathbb{R}}\n",
    "\\newcommand{\\N}{\\mathbb{N}}\n",
    "\\newcommand{\\nr}[1]{\\|#1\\|}\n",
    "\\newcommand{\\abs}[1]{|#1|}\n",
    "\\renewcommand{\\epsilon}{\\varepsilon}\n",
    "\\newcommand{\\sca}[2]{\\langle#1|#2\\rangle}\n",
    "\\newcommand{\\D}{\\mathrm{D}}\n",
    "\\newcommand{\\hdots}{\\dots}\n",
    "\\newcommand{\\cond}{\\mathrm{cond}}$"
   ]
  },
  {
   "cell_type": "markdown",
   "metadata": {
    "nbgrader": {
     "grade": false,
     "grade_id": "cell-df91789dfbe3490b",
     "locked": true,
     "schema_version": 3,
     "solution": false,
     "task": false
    }
   },
   "source": [
    "You will use this notebook to answer the exercises. You can add text (markdown) or code cells as you see fit, but you are not allowed to delete cells.\n",
    "\n"
   ]
  },
  {
   "cell_type": "markdown",
   "metadata": {
    "nbgrader": {
     "grade": true,
     "grade_id": "cell-40475301a469c933",
     "locked": false,
     "points": 1,
     "schema_version": 3,
     "solution": true,
     "task": false
    }
   },
   "source": [
    "Type in this cell the number of the team and the names of the participating students:\n",
    "### BEGIN SOLUTION\n",
    "### END SOLUTION"
   ]
  },
  {
   "cell_type": "code",
   "execution_count": 1,
   "metadata": {
    "nbgrader": {
     "grade": false,
     "grade_id": "cell-9bb4cb396a38c1ba",
     "locked": true,
     "schema_version": 3,
     "solution": false,
     "task": false
    }
   },
   "outputs": [],
   "source": [
    "import numpy as np\n",
    "import matplotlib.pyplot as plt"
   ]
  },
  {
   "cell_type": "markdown",
   "metadata": {
    "nbgrader": {
     "grade": false,
     "grade_id": "cell-09c83cd600db1ae8",
     "locked": true,
     "schema_version": 3,
     "solution": false,
     "task": false
    }
   },
   "source": [
    "## Exercise 1 : Fixed point search\n",
    "\n",
    "The author of the original french version for the fixed point exercises of this notebook is Fabien Vergnet (Sorbonne Universite)\n",
    " \n",
    "We wish to calculate an approximate value of a fixed point of a contracting function $g$ from a given point $x_{0}$. We will use the iterative method seen in class, that is to say, consider the iterations\n",
    "$$\n",
    "x_{n+1}=g(x_n).\n",
    "$$\n",
    "\n",
    "### Question 1\n",
    "We want to calculate the fixed point with a given precision and we want to define a stopping criterion for this algorithm.\n",
    "\n",
    "Suppose there exists $n_0\\in\\N$ such that $|x_{n_0+1}-x_{n_0}| < \\epsilon$.\n",
    "  1. Show that for all $n\\geq n_0$, $|x_{n+1}-x_{n}| < k^{n-n_0}\\epsilon$, with $k>0$.\n",
    "  2. Show that for all $n\\geq n_0$ and for all $p\\geq 1$, $|x_{n+p}-x_n| < k^{n-n_0}\\sum_{q=0}^{p-1} k^q \\epsilon$.\n",
    "  3. Then define a stopping criterion for this fixed point algorithm.\n",
    "     "
   ]
  },
  {
   "cell_type": "markdown",
   "metadata": {
    "nbgrader": {
     "grade": true,
     "grade_id": "cell-0de18054ccdbf2c8",
     "locked": false,
     "points": 2,
     "schema_version": 3,
     "solution": true,
     "task": false
    }
   },
   "source": [
    "=== BEGIN RESPONSE ===\n",
    "\n",
    "1. For $n=n_0$, the inequality is true by hypothesis.\n",
    "Suppose then that the inequality is true for some $n\\geq n_0$.\n",
    "As $g$ is contracting, there exists a constant $k\\in[0,1[$ such that\n",
    "$$\n",
    "|x_{n+2} - x_{n-1}| = | g(x_{n+1}) - g(x_n) | \\leq k |x_{n+1}-x_n| < k^{n-n_0+1}\\epsilon.\n",
    "$$\n",
    "By induction this inequality is true for all $n\\geq n_0$\n",
    "\n",
    "2. Let $n\\geq n_0$. For $p=1$ the inequality is true according to question 1.\n",
    "Suppose then that the inequality is true for some $p\\geq1$. We then have\n",
    "$$\n",
    "|x_{n+p+1}-x_n| \\leq |x_{n+p+1} - x_{n+p}| + |x_{n+p}-x_n| < k^p |x_{n+1}-x_n| + k^{n-n_0}\\sum_{q=0}^{p-1} k^q < k^{n-n_0}\\sum_{q=0}^{p} k^q\n",
    "$$\n",
    "\n",
    "3. For all $p\\geq1$, $\\sum_{q=0}^{p-1} k^q = \\frac{1-k^p}{1-k}$.\n",
    "If we make $p$ tend towards $\\infty$ in the previous inequality, we obtain that\n",
    "$$\n",
    "|x^* - x_n| < \\frac{k^{n-n_0}}{1-k} \\epsilon\n",
    "$$\n",
    "for all $n\\geq n_0$.\n",
    "We therefore observe that the error at rank $n\\geq n_0$ can be greater than the desired $\\epsilon$ precision and this depends on the contracting constant of $g$.\n",
    "If $k\\leq \\frac12$, then for $n> n_0$, we have $|x^* - x_n| <\\epsilon$.\n",
    "On the other hand, if $k=0.9$ for example, the error is much greater than $\\epsilon$. In fact for $k\\in]0.1[$, we can determine how many additional iterations would be necessary to obtain an error lower than $\\epsilon$. To do this, we set $m=n-n_0$ and look for $m$ such that\n",
    "$$\n",
    "\\frac{k^m}{1-k} \\leq 1\n",
    "$$\n",
    "and we find that it is necessary that $m\\geq\\frac{\\ln(1-k)}{\\ln(k)}$.\n",
    "If $k=\\frac12$, we find $m\\geq1$ and this means that $x_{n_0+1}$ is an approximation of $x^*$ up to $\\epsilon$.\n",
    "If $k=0.9$, we find $m\\geq22$ and this means that we would have to do 22 additional iterations to have an approximation of $x^*$ to the nearest $\\epsilon$.\n",
    "For $k=0.99$, we find $m\\geq459$...\n",
    "\n",
    "In practice, we choose a fairly small tolerance $\\epsilon$ and we stop when $|x_{n+1}-x_n|\\leq \\epsilon$.\n",
    "\n",
    "​\n",
    "=== END RESPONSE ==="
   ]
  },
  {
   "cell_type": "markdown",
   "metadata": {
    "deletable": false,
    "nbgrader": {
     "grade": false,
     "grade_id": "cell-b5c9ee9287c8a2fc",
     "locked": true,
     "schema_version": 3,
     "solution": false,
     "task": false
    }
   },
   "source": [
    "### Question 2\n",
    "Define the $fixedpoint$ function which takes as argument:\n",
    "- the initial condition $x_0$,\n",
    "- the precision $\\epsilon$,\n",
    "- the $g$ function\n",
    "\n",
    "and which returns:\n",
    "- a value approximating a fixed point of $g$ and\n",
    "- the number of iterations necessary to reach the precision $\\epsilon$."
   ]
  },
  {
   "cell_type": "code",
   "execution_count": 2,
   "metadata": {
    "nbgrader": {
     "grade": true,
     "grade_id": "cell-58703241308d898d",
     "locked": false,
     "points": 1,
     "schema_version": 3,
     "solution": true,
     "task": false
    }
   },
   "outputs": [],
   "source": [
    "def fixedpoint(x0,eps,g):\n",
    "    ### BEGIN SOLUTION\n",
    "    x=x0\n",
    "    n=0\n",
    "    while np.linalg.norm(x-g(x))>eps:\n",
    "        x=g(x)\n",
    "        n=n+1\n",
    "    return x,n\n",
    "    ### END SOLUTION\n"
   ]
  },
  {
   "cell_type": "markdown",
   "metadata": {
    "deletable": false,
    "nbgrader": {
     "grade": false,
     "grade_id": "cell-367126c9d1a3a3dc",
     "locked": true,
     "schema_version": 3,
     "solution": false,
     "task": false
    }
   },
   "source": [
    "### Question 3\n",
    "We consider the function $g(x)=2\\sin(x)$ on $[-2,2]$. Represent the graph of this function as well as the line $y=x$. "
   ]
  },
  {
   "cell_type": "code",
   "execution_count": 3,
   "metadata": {
    "nbgrader": {
     "grade": true,
     "grade_id": "cell-f3aca5a33dca7d09",
     "locked": false,
     "points": 1,
     "schema_version": 3,
     "solution": true,
     "task": false
    }
   },
   "outputs": [
    {
     "data": {
      "image/png": "[encoded data removed]",
      "text/plain": [
       "<Figure size 640x480 with 1 Axes>"
      ]
     },
     "metadata": {},
     "output_type": "display_data"
    }
   ],
   "source": [
    "N = 100\n",
    "X = np.linspace(-2,2,N) \n",
    "\n",
    "### BEGIN SOLUTION\n",
    "G = 2*np.sin(X)\n",
    "\n",
    "plt.figure(1)\n",
    "plt.plot(X,G, label='g')\n",
    "plt.plot(X,X, label='y=x')\n",
    "plt.legend()\n",
    "plt.title(\"Fixed points of function $g$\")\n",
    "plt.xlabel(\"$x$\")\n",
    "plt.show()\n",
    "### END SOLUTION"
   ]
  },
  {
   "cell_type": "markdown",
   "metadata": {
    "nbgrader": {
     "grade": true,
     "grade_id": "cell-a33e23867beab548",
     "locked": false,
     "points": 1,
     "schema_version": 3,
     "solution": true,
     "task": false
    }
   },
   "source": [
    "How many a priori fixed points does $g$ have?\n",
    "\n",
    "=== BEGIN RESPONSE\n",
    "\n",
    "A priori, $g$ admits three fixed points.\n",
    "\n",
    "=== END RESPONSE"
   ]
  },
  {
   "cell_type": "markdown",
   "metadata": {
    "deletable": false,
    "nbgrader": {
     "grade": false,
     "grade_id": "cell-46add975405868ef",
     "locked": true,
     "schema_version": 3,
     "solution": false,
     "task": false
    }
   },
   "source": [
    "### Question 4\n",
    "Apply the fixed point algorithm to find the fixed points of the $g$ function, for an $x_{0}$ in $[1.5,2]$.\n",
    " "
   ]
  },
  {
   "cell_type": "code",
   "execution_count": 4,
   "metadata": {
    "nbgrader": {
     "grade": true,
     "grade_id": "cell-9b04859e63c3d7ca",
     "locked": false,
     "points": 1,
     "schema_version": 3,
     "solution": true,
     "task": false
    }
   },
   "outputs": [
    {
     "name": "stdout",
     "output_type": "stream",
     "text": [
      "x= 1.8954998279980637 n= 23\n"
     ]
    }
   ],
   "source": [
    "### BEGIN SOLUTION\n",
    "def g(x):\n",
    "    return 2*np.sin(x)\n",
    "    \n",
    "x,n = fixedpoint(1.6,1e-5,g)\n",
    "print('x=',x,'n=',n)\n",
    "### END SOLUTION"
   ]
  },
  {
   "cell_type": "markdown",
   "metadata": {
    "deletable": false,
    "nbgrader": {
     "grade": false,
     "grade_id": "cell-e7bec597648d9b21",
     "locked": true,
     "schema_version": 3,
     "solution": false,
     "task": false
    }
   },
   "source": [
    "### Question 5\n",
    "The point $0$ is also a fixed point of $g$.\n",
    "- Apply the fixed point algorithm to $g$ by taking $x_{0}=0.01$ then $x_{0}=-0.01$.\n"
   ]
  },
  {
   "cell_type": "code",
   "execution_count": 5,
   "metadata": {
    "nbgrader": {
     "grade": true,
     "grade_id": "cell-ea878f5e284c84b6",
     "locked": false,
     "points": 1,
     "schema_version": 3,
     "solution": true,
     "task": false
    }
   },
   "outputs": [
    {
     "name": "stdout",
     "output_type": "stream",
     "text": [
      "x= 1.8954982551947357 n= 29\n",
      "x= -1.8954982551947357 n= 29\n"
     ]
    }
   ],
   "source": [
    "### BEGIN SOLUTION\n",
    "x,n = fixedpoint(0.01,1e-5,g)\n",
    "print('x=',x,'n=',n)\n",
    "\n",
    "x,n = fixedpoint(-0.01,1e-5,g)\n",
    "print('x=',x,'n=',n)\n",
    "### END SOLUTION"
   ]
  },
  {
   "cell_type": "markdown",
   "metadata": {
    "deletable": false,
    "nbgrader": {
     "grade": true,
     "grade_id": "cell-1e62d189d5d43b7e",
     "locked": false,
     "points": 1,
     "schema_version": 3,
     "solution": true,
     "task": false
    }
   },
   "source": [
    "What is going on ? Explain.\n",
    "=== BEGIN SOLUTION ===\n",
    "\n",
    "We notice that the fixed point method does not converge to $0$ while $x_0$ is very close to $0$. It seems that $0$ is repulsive, which we verify by calculating $g'(0)=2>1$ (see exercise 2, tutorial sheet 1).\n",
    "=== END SOLUTION ==="
   ]
  },
  {
   "cell_type": "markdown",
   "metadata": {
    "deletable": false,
    "nbgrader": {
     "grade": false,
     "grade_id": "cell-e6f0e626a840dee8",
     "locked": true,
     "schema_version": 3,
     "solution": false,
     "task": false
    }
   },
   "source": [
    "#  Exercise 2 : Newton method"
   ]
  },
  {
   "cell_type": "markdown",
   "metadata": {
    "deletable": false,
    "nbgrader": {
     "grade": false,
     "grade_id": "cell-eac46954ed8377f0",
     "locked": true,
     "schema_version": 3,
     "solution": false,
     "task": false
    }
   },
   "source": [
    "In this exercice we implement the scalar Newton method to solve a non linear equation \n",
    "$$g(x)=0$$ \n",
    "we suppose that the function $g$ is at least $C^1$.\n",
    "\n",
    "\n",
    " the scalar Newton algorithm\n",
    "<UL>\n",
    "<li> tolerance $\\varepsilon$\n",
    "<li> maximum number of iterations $k_{\\max}$\n",
    " <li>  $k=0$, $x_0$ initial approximation of the solution of $g(x)=0.$\n",
    " <li> While{$|g(x_k)|>\\varepsilon$ and $k\\leq k_{\\max}$\n",
    "<UL>     \n",
    " <li>   $ x_{k+1} = x_k-\\dfrac{g(x_k)}{g'(x_k)}$\n",
    " <li>   $k\\leftarrow k+1$\n",
    "</UL>  $x^\\star\\leftarrow x_k$\n",
    "</UL>"
   ]
  },
  {
   "cell_type": "markdown",
   "metadata": {
    "deletable": false,
    "nbgrader": {
     "grade": false,
     "grade_id": "cell-afe89f9b8af327c6",
     "locked": true,
     "schema_version": 3,
     "solution": false,
     "task": false
    }
   },
   "source": [
    "### Question 1. \n",
    "Define the $Newton$ function which takes as argument:\n",
    "- the initial condition $x_0$,\n",
    "- the precision $\\varepsilon$,\n",
    "- the names $g$ and $gprime$ of the functions defining $g(x)$ and $g'(x)$\n",
    "\n",
    "and which returns:\n",
    "- a value approximating a zero  of $g$ and\n",
    "- the corresponding  value  of $g$ (should be lower than $\\varepsilon$ if the algorithm has converged)\n",
    "- the number of ierations necessary to reach the precision $\\varepsilon$."
   ]
  },
  {
   "cell_type": "code",
   "execution_count": 6,
   "metadata": {
    "deletable": false,
    "nbgrader": {
     "grade": true,
     "grade_id": "cell-d8dc75f08cdf495a",
     "locked": false,
     "points": 2,
     "schema_version": 3,
     "solution": true,
     "task": false
    }
   },
   "outputs": [],
   "source": [
    "def Newton(x0,eps,g,gprime):\n",
    "    ### BEGIN SOLUTION\n",
    "    # in this program x0 will contain the successive values of the x_k \n",
    "    k_max=100   #max number of iterations\n",
    "    gx=g(x0)\n",
    "    k=0\n",
    "    while (abs(gx)>eps) & (k<k_max) :\n",
    "        x0=x0-gx/gprime(x0)\n",
    "        k=k+1\n",
    "        gx=g(x0)\n",
    "    if k==k_max:\n",
    "        print('Newton algorithm did not converge')\n",
    "    return x0,gx,k\n",
    "    ### END SOLUTION"
   ]
  },
  {
   "cell_type": "markdown",
   "metadata": {
    "deletable": false,
    "nbgrader": {
     "grade": false,
     "grade_id": "cell-023d3d07da849459",
     "locked": true,
     "schema_version": 3,
     "solution": false,
     "task": false
    }
   },
   "source": [
    "### Question 2. \n",
    "Test the algorithm on  the function $g_1(x)=(x-1)e^{-(x-1)^2}$ \n",
    "with starting points $x_0\\in\\{0.45,0.5,0.55,1.5,2.5,3.5\\}$\n",
    "and a tolerance $\\varepsilon=10^{-10}$"
   ]
  },
  {
   "cell_type": "code",
   "execution_count": 7,
   "metadata": {
    "nbgrader": {
     "grade": true,
     "grade_id": "cell-837cce2a22b1ea68",
     "locked": false,
     "points": 2,
     "schema_version": 3,
     "solution": true,
     "task": false
    }
   },
   "outputs": [
    {
     "name": "stdout",
     "output_type": "stream",
     "text": [
      "x0=0.45 xstar=6.000 g(xstar)=0.000 iter=18\n",
      "\n",
      "Newton algorithm did not converge\n",
      "x0=0.5 xstar=0.50 g(xstar)=-0.39 iter=100\n",
      "\n",
      "x0=0.55 xstar=1.00 g(xstar)=0.00 iter=5\n",
      "\n",
      "x0=1.25 xstar=1.00 g(xstar)=-0.00 iter=3\n",
      "\n",
      "x0=2.5 xstar=6.02 g(xstar)=0.00 iter=21\n",
      "\n"
     ]
    }
   ],
   "source": [
    "### BEGIN SOLUTION\n",
    "def g1(x):\n",
    "    return (x-1)*np.exp(-(x-1)**2)\n",
    "def g1prime(x):\n",
    "    return (1-2*(x-1)**2)*np.exp(-(x-1)**2)\n",
    "eps=1E-10\n",
    "x0=0.45\n",
    "xstar,gx,k=Newton(x0,eps,g1,g1prime)\n",
    "\n",
    "### {:.2f} to limit the number of decimal to be printed\n",
    "print('x0={} xstar={:.3f} g(xstar)={:.3f} iter={}\\n'.format(x0,xstar,gx,k))\n",
    "x0=0.5\n",
    "xstar,gx,k=Newton(x0,eps,g1,g1prime)\n",
    "print('x0={} xstar={:.2f} g(xstar)={:.2f} iter={}\\n'.format(x0,xstar,gx,k))\n",
    "\n",
    "x0=0.55\n",
    "xstar,gx,k=Newton(x0,eps,g1,g1prime)\n",
    "print('x0={} xstar={:.2f} g(xstar)={:.2f} iter={}\\n'.format(x0,xstar,gx,k))\n",
    "\n",
    "x0=1.25\n",
    "xstar,gx,k=Newton(x0,eps,g1,g1prime)\n",
    "print('x0={} xstar={:.2f} g(xstar)={:.2f} iter={}\\n'.format(x0,xstar,gx,k))\n",
    "\n",
    "\n",
    "x0=2.5\n",
    "xstar,gx,k=Newton(x0,eps,g1,g1prime)\n",
    "print('x0={} xstar={:.2f} g(xstar)={:.2f} iter={}\\n'.format(x0,xstar,gx,k))\n",
    "\n",
    "### END SOLUTION"
   ]
  },
  {
   "cell_type": "markdown",
   "metadata": {
    "deletable": false,
    "nbgrader": {
     "grade": true,
     "grade_id": "cell-175ed8e29187c0da",
     "locked": false,
     "points": 2,
     "schema_version": 3,
     "solution": true,
     "task": false
    }
   },
   "source": [
    "### Question 3. \n",
    "Explain the results \n",
    "=== BEGIN RESPONSE\n",
    "$g_1$ has one zero at $x^\\star=1$ but since the $e^x$ decreases very fast, if the algorithm goes as far as $6$ $e^{-(6-1)^2}=e^{-25}$ is very small and $g_1(6)<\\varepsilon$ is an acceptable root !\n",
    "On the other hand for some starting points, $x_0=0.5$ the algorithm does not converge.\n",
    "=== END RESPONSE"
   ]
  },
  {
   "cell_type": "markdown",
   "metadata": {
    "deletable": false,
    "nbgrader": {
     "grade": false,
     "grade_id": "cell-ef21db86396a2018",
     "locked": true,
     "schema_version": 3,
     "solution": false,
     "task": false
    }
   },
   "source": [
    "# Newton-Ralphson method"
   ]
  },
  {
   "cell_type": "markdown",
   "metadata": {
    "deletable": false,
    "nbgrader": {
     "grade": false,
     "grade_id": "cell-8803decd06095b92",
     "locked": true,
     "schema_version": 3,
     "solution": false,
     "task": false
    }
   },
   "source": [
    "The Newton-Ralphson method is the generalisation of the Newton method in the vector case\n",
    "In order to program it  in Python, you need programming tools for current operations in linear algebra, operations on vector and matrices. \n",
    "\n",
    "\n",
    "For example in the following cell, , \n",
    " we define a matrix A and a vector X with np.array. We calculate the product B = AX with np.dot, we\n",
    "solve the system A Y = B with np.linalg.solve then we compare Y with X.\n",
    "\n",
    "Note the convention for rows and columns of a matrix, to be observed in the definition of the Jacobian matrix of a function. "
   ]
  },
  {
   "cell_type": "code",
   "execution_count": 8,
   "metadata": {
    "deletable": false,
    "nbgrader": {
     "grade": false,
     "grade_id": "cell-7f5dc59cad9c2a19",
     "locked": true,
     "schema_version": 3,
     "solution": false,
     "task": false
    }
   },
   "outputs": [
    {
     "name": "stdout",
     "output_type": "stream",
     "text": [
      "[[1. 2.]\n",
      " [3. 5.]] [ 5. 13.]\n",
      "[1. 2.]\n",
      "[1. 2.]\n"
     ]
    }
   ],
   "source": [
    "A=np.array([[1.,2.],[3.,5.]])\n",
    "X=np.array([1.,2.])\n",
    "B=A.dot(X)\n",
    "Y = np.linalg.solve(A,B)\n",
    "print (A,B)\n",
    "print (X)\n",
    "print (Y)\n"
   ]
  },
  {
   "cell_type": "markdown",
   "metadata": {
    "nbgrader": {
     "grade": false,
     "grade_id": "cell-d92722be4e649fa1",
     "locked": true,
     "schema_version": 3,
     "solution": false,
     "task": false
    }
   },
   "source": [
    "### Question 4. \n",
    "Program a function $NewtonRalphson(x0,eps,G,JG)$ taking as input arguments\n",
    "- the initial condition $x_0$,\n",
    "- the precision $\\varepsilon$,\n",
    "- the names $G$ and $JG$ of the functions defining $G(x)$ and the Jacobian matrix of $g(x)$ denoted $JG(x)$\n",
    "\n",
    "and which returns:\n",
    "- a numpy array approximating a zero  of $G$ and\n",
    "- the corresponding  value  of $G$ (its norm should be lower than $\\varepsilon$ if the algorithm has converged)\n",
    "- the number of iterations necessary to reach the precision $\\varepsilon$.\n",
    "\n",
    "  \n",
    "The Newton Ralphson algorithm has been seen in class :\n",
    "  \n",
    "<UL>\n",
    "      <LI>Initialize $k=0$, $x_0$</LI>\n",
    "      <LI>While $||G(x_k)||>\\varepsilon$ and $k\\leq k_{\\max}$\n",
    "      <UL>\n",
    "          <LI>Solve  $JG(x_k) d_{k}=-G(x_k)$</LI>\n",
    "<li>$x_{k+1}= x_{k}+d_k$</li>\n",
    "  <LI>$k\\leftarrow k+1$</LI>\n",
    "      </UL>\n",
    "      </LI>\n",
    "  <li>$x^\\star\\leftarrow x_k$</li>\n",
    "  </UL> \n",
    "\n"
   ]
  },
  {
   "cell_type": "code",
   "execution_count": 9,
   "metadata": {
    "nbgrader": {
     "grade": true,
     "grade_id": "cell-262f89076472f72d",
     "locked": false,
     "points": 2,
     "schema_version": 3,
     "solution": true,
     "task": false
    }
   },
   "outputs": [],
   "source": [
    "def NewtonRalphson(X0,eps,G,JG):\n",
    "# call arguments\n",
    "# X0: (np.array n components), starting point for the Newton-Ralphson algorithm\n",
    "# eps: tolerance for convergence\n",
    "# G: identifier of the function from R^n in R^n whose root we are looking for\n",
    "# the call syntax is [Y] = G (X) with\n",
    "# Y (np.array n components) the value of the function G in X (vector of R ^ n)\n",
    "# JG: identifier of the function from R^n in R^nxn calculating the Jacobian of G\n",
    "# the call syntax is [J] = JG (X) with\n",
    "# J its jacobian matrix (nxn) in X (np.array nxn components)\n",
    "# output arguments\n",
    "# Xstar: value of the root found by Newton-Ralphson\n",
    "# Gstar: value of function G in Xstar\n",
    "# nb_iter: number of iterations performed\n",
    "# ...\n",
    "### BEGIN SOLUTION\n",
    "    max_iter=100\n",
    "    Xstar=X0\n",
    "    nb_iter=0\n",
    "    Gstar=G(Xstar)\n",
    "    JGstar=JG(Xstar)\n",
    "    dX=Gstar\n",
    "    while np.linalg.norm(Gstar)>eps and np.linalg.norm(dX)>eps and nb_iter<max_iter:\n",
    "        dX=np.linalg.solve(JGstar,Gstar)\n",
    "        Xstar=Xstar-dX\n",
    "        Gstar=G(Xstar)\n",
    "        JGstar=JG(Xstar)\n",
    "        nb_iter+=1\n",
    "    return Xstar,Gstar,nb_iter\n",
    "### END SOLUTION"
   ]
  },
  {
   "cell_type": "markdown",
   "metadata": {
    "nbgrader": {
     "grade": false,
     "grade_id": "cell-f70c3c6a66d5b443",
     "locked": true,
     "schema_version": 3,
     "solution": false,
     "task": false
    }
   },
   "source": [
    "### Question 5. \n",
    "Test case: we consider the function  \n",
    "$G_{test}:R^2\\rightarrow R^2$, \n",
    "\n",
    "$G_{test}(X)=\\nabla f(X)$ with $f(X)=(X_1-1)^2+(X_2-2)^4$\n",
    " \n",
    "Compute (on paper) $G_{test}(X)$ and its jacobian matrix $JG_{test}(X)$.  \n",
    " \n",
    "Program in G\\_test and JG\\_test\n"
   ]
  },
  {
   "cell_type": "code",
   "execution_count": 10,
   "metadata": {
    "nbgrader": {
     "grade": true,
     "grade_id": "cell-83faf3faa2ae8d94",
     "locked": false,
     "points": 1,
     "schema_version": 3,
     "solution": true,
     "task": false
    }
   },
   "outputs": [],
   "source": [
    "def G_test(X):\n",
    "### BEGIN SOLUTION\n",
    "    Y=np.array([2*(X[0]-1),4*(X[1]-2)**3])\n",
    "    return Y\n",
    "### END SOLUTION"
   ]
  },
  {
   "cell_type": "code",
   "execution_count": 11,
   "metadata": {
    "nbgrader": {
     "grade": true,
     "grade_id": "cell-888547bd83938f81",
     "locked": false,
     "points": 1,
     "schema_version": 3,
     "solution": true,
     "task": false
    }
   },
   "outputs": [],
   "source": [
    "def JG_test(X):\n",
    "### BEGIN SOLUTION\n",
    "    J=np.array([[2,0],[0,12*(X[1]-2)**2]])\n",
    "    return J\n",
    "### END SOLUTION"
   ]
  },
  {
   "cell_type": "markdown",
   "metadata": {
    "nbgrader": {
     "grade": false,
     "grade_id": "cell-5b7a850f3d40c164",
     "locked": true,
     "schema_version": 3,
     "solution": false,
     "task": false
    }
   },
   "source": [
    "### Question 6. \n",
    "\n",
    "Define a starting point $X0$, a tolerance $\\varepsilon$\n",
    "\n",
    "Call the $NewtonRalphson$ function\n",
    "\n",
    "Print the root found for $G(X)=0$"
   ]
  },
  {
   "cell_type": "code",
   "execution_count": 12,
   "metadata": {
    "nbgrader": {
     "grade": true,
     "grade_id": "cell-6d94fade38bc799a",
     "locked": false,
     "points": 2,
     "schema_version": 3,
     "solution": true,
     "task": false
    }
   },
   "outputs": [
    {
     "name": "stdout",
     "output_type": "stream",
     "text": [
      "results de Newton-Ralphson\n",
      "X^*=[1.         1.94797541]\n",
      "G_test([1.         1.94797541])=[ 0.         -0.00056323]\n",
      "Nomber of iterations=9\n",
      "\n"
     ]
    }
   ],
   "source": [
    "### BEGIN SOLUTION\n",
    "X0=np.array([0,0])\n",
    "eps=0.001\n",
    "# ...\n",
    "Xstar,Gstar,nb_iter=NewtonRalphson(X0,eps,G_test,JG_test)\n",
    "print(\"results de Newton-Ralphson\\nX^*={}\\nG_test({})={}\\nNomber of iterations={}\\n\".format(\n",
    "      Xstar,Xstar,Gstar,nb_iter))\n",
    "### END SOLUTION\n"
   ]
  },
  {
   "cell_type": "markdown",
   "metadata": {
    "nbgrader": {
     "grade": false,
     "grade_id": "cell-eababa6c72f78442",
     "locked": true,
     "schema_version": 3,
     "solution": false,
     "task": false
    }
   },
   "source": [
    "# Visualisation des bassins d'attraction d'une équation dans $\\mathbb{C}$"
   ]
  },
  {
   "cell_type": "markdown",
   "metadata": {
    "nbgrader": {
     "grade": false,
     "grade_id": "cell-26b0c1c5cd146748",
     "locked": true,
     "schema_version": 3,
     "solution": false,
     "task": false
    }
   },
   "source": [
    "### Question 7. \n",
    "Finding the roots of a polynomial equation of degree 3 in $\\mathbb{C}$\n",
    "\n",
    "Calculate (on paper) the roots $(r_i)_{i=1,2,3}$ of $x^3=1$ in $\\mathbb{C}$\n",
    "\n",
    "Define a numpy array $Roots$ of 3 rows containing the real and imaginary parts of the 3 roots.\n",
    "\n",
    "\n"
   ]
  },
  {
   "cell_type": "code",
   "execution_count": 30,
   "metadata": {
    "nbgrader": {
     "grade": true,
     "grade_id": "cell-bf1c2c03ec6f1c02",
     "locked": false,
     "points": 1,
     "schema_version": 3,
     "solution": true,
     "task": false
    }
   },
   "outputs": [],
   "source": [
    "### BEGIN SOLUTION\n",
    "Roots=np.array([[1,0],[-0.5,3**0.5/2],[-0.5,-3**0.5/2]])\n",
    "### END SOLUTION"
   ]
  },
  {
   "cell_type": "markdown",
   "metadata": {
    "nbgrader": {
     "grade": false,
     "grade_id": "cell-92d5f3530328dc95",
     "locked": true,
     "schema_version": 3,
     "solution": false,
     "task": false
    }
   },
   "source": [
    "### Question 8.\n",
    "Display the unit circle and the roots with red crosses"
   ]
  },
  {
   "cell_type": "code",
   "execution_count": 31,
   "metadata": {
    "nbgrader": {
     "grade": true,
     "grade_id": "cell-da9e3ce0b42e9c5d",
     "locked": false,
     "points": 1,
     "schema_version": 3,
     "solution": true,
     "task": false
    }
   },
   "outputs": [
    {
     "data": {
      "text/plain": [
       "(-1.1, 1.1, -1.1, 1.1)"
      ]
     },
     "execution_count": 31,
     "metadata": {},
     "output_type": "execute_result"
    },
    {
     "data": {
      "image/png": "[encoded data removed]",
      "text/plain": [
       "<Figure size 640x480 with 1 Axes>"
      ]
     },
     "metadata": {},
     "output_type": "display_data"
    }
   ],
   "source": [
    "from matplotlib.patches import Circle\n",
    "\n",
    "center = (0., 0.)\n",
    "radius = 1\n",
    "circle = Circle(center, radius , fill=False)\n",
    "fig, ax = plt.subplots()\n",
    "ax.add_patch(circle)\n",
    "for i in range(3):\n",
    "    ax.plot(Roots[i][0],Roots[i][1],'xr')\n",
    "plt.xlabel('x')\n",
    "plt.ylabel('y')\n",
    "plt.title(r\"Unit circle and complex roots of $z^3=1$\")\n",
    "plt.axis('equal')\n",
    "### END SOLUTION"
   ]
  },
  {
   "cell_type": "markdown",
   "metadata": {
    "nbgrader": {
     "grade": false,
     "grade_id": "cell-b454dacc2f75a1ba",
     "locked": true,
     "schema_version": 3,
     "solution": false,
     "task": false
    }
   },
   "source": [
    "### Question 9.\n",
    "Let $\\varphi(x)=x^3-1$.\n",
    "\n",
    "On paper :\n",
    "\n",
    "Express $y=\\varphi(x)$ in the form $y=y_1+iy_2$ as a function of $x_1,x_2$ with $x=x_1+ix_2$.\n",
    "\n",
    "We consider the function $\\phi:R^2\\rightarrow R^2$ which to $X=(x_1,x_2)^T$ associates $Y=(y_1,y_2)^T=\\varphi(x_1+ix_2)$ .\n",
    "\n",
    "Calculate the Jacobian matrix $Jphi(X)$ of $\\phi(X)$."
   ]
  },
  {
   "cell_type": "markdown",
   "metadata": {
    "nbgrader": {
     "grade": false,
     "grade_id": "cell-db418e79b4ee5714",
     "locked": true,
     "schema_version": 3,
     "solution": false,
     "task": false
    }
   },
   "source": [
    "In the following cell, program  functions $phi(X)$ and $Jphi(X)$, as you did for  $G_{test}$ and $JG_{test}$."
   ]
  },
  {
   "cell_type": "code",
   "execution_count": 15,
   "metadata": {
    "nbgrader": {
     "grade": true,
     "grade_id": "cell-2152141eb0c8d488",
     "locked": false,
     "points": 1,
     "schema_version": 3,
     "solution": true,
     "task": false
    }
   },
   "outputs": [],
   "source": [
    "def phi(X):\n",
    "    ### BEGIN SOLUTION\n",
    "    return np.array([X[0]**3-3*X[1]**2*X[0]-1,-X[1]**3+3*X[0]**2*X[1]])\n",
    "    ### END SOLUTION\n",
    "    "
   ]
  },
  {
   "cell_type": "code",
   "execution_count": 16,
   "metadata": {
    "nbgrader": {
     "grade": true,
     "grade_id": "cell-87c4efe34bc3a924",
     "locked": false,
     "points": 1,
     "schema_version": 3,
     "solution": true,
     "task": false
    }
   },
   "outputs": [],
   "source": [
    "def Jphi(X):\n",
    "    ### BEGIN SOLUTION\n",
    "    return np.array([[3*X[0]**2-3*X[1]**2,-6*X[1]*X[0]],        \n",
    "                      [6*X[0]*X[1],-3*X[1]**2+3*X[0]**2]])\n",
    "    ### END SOLUTION\n",
    "   "
   ]
  },
  {
   "cell_type": "markdown",
   "metadata": {
    "nbgrader": {
     "grade": false,
     "grade_id": "cell-8579d89a2ad3cd2d",
     "locked": true,
     "schema_version": 3,
     "solution": false,
     "task": false
    }
   },
   "source": [
    "### Question 10. \n",
    "Check that we can find the roots of the equation $x^3=1$ in $\\mathbb{C}$ by calling the NewtonRalphson function with the functions $phi$ and $Jphi$ as third and fourth arguments, and different starting points $X0$. Print  these checks.\n"
   ]
  },
  {
   "cell_type": "code",
   "execution_count": 17,
   "metadata": {
    "nbgrader": {
     "grade": true,
     "grade_id": "cell-a65cb6a5cd97d719",
     "locked": false,
     "points": 2,
     "schema_version": 3,
     "solution": true,
     "task": false
    }
   },
   "outputs": [
    {
     "name": "stdout",
     "output_type": "stream",
     "text": [
      "results of Newton-Ralphson\n",
      "X_0=[1, 1]\n",
      "X^*=[ 1.00013414e+00 -9.53221851e-05]\n",
      "Phi([ 1.00013414e+00 -9.53221851e-05])=[ 0.00040246 -0.00028604]\n",
      "Number of iterations=6\n",
      "\n",
      "results of Newton-Ralphson\n",
      "X_0=[-1, 1]\n",
      "X^*=[-0.49999991  0.8660249 ]\n",
      "Phi([-0.49999991  0.8660249 ])=[-1.43361306e-06  5.20673106e-07]\n",
      "Number of iterations=4\n",
      "\n",
      "results of Newton-Ralphson\n",
      "X_0=[-1, -1]\n",
      "X^*=[-0.49999991 -0.8660249 ]\n",
      "Phi([-0.49999991 -0.8660249 ])=[-1.43361306e-06 -5.20673106e-07]\n",
      "Number of iterations=4\n",
      "\n"
     ]
    }
   ],
   "source": [
    "### BEGIN SOLUTION\n",
    "\n",
    "eps=0.001\n",
    "X0=[1,1]\n",
    "Xstar,Gstar,nb_iter=NewtonRalphson(X0,eps,phi,Jphi)\n",
    "print(\"results of Newton-Ralphson\\nX_0={}\\nX^*={}\\nPhi({})={}\\nNumber of iterations={}\\n\".format(\n",
    "      X0,Xstar,Xstar,Gstar,nb_iter))\n",
    "X0=[-1,1]\n",
    "Xstar,Gstar,nb_iter=NewtonRalphson(X0,eps,phi,Jphi)\n",
    "print(\"results of Newton-Ralphson\\nX_0={}\\nX^*={}\\nPhi({})={}\\nNumber of iterations={}\\n\".format(\n",
    "      X0,Xstar,Xstar,Gstar,nb_iter))\n",
    "X0=[-1,-1]\n",
    "Xstar,Gstar,nb_iter=NewtonRalphson(X0,eps,phi,Jphi)\n",
    "print(\"results of Newton-Ralphson\\nX_0={}\\nX^*={}\\nPhi({})={}\\nNumber of iterations={}\\n\".format(\n",
    "      X0,Xstar,Xstar,Gstar,nb_iter))\n",
    "### END SOLUTION\n"
   ]
  },
  {
   "cell_type": "markdown",
   "metadata": {
    "nbgrader": {
     "grade": false,
     "grade_id": "cell-42b1008defe41ca4",
     "locked": true,
     "schema_version": 3,
     "solution": false,
     "task": false
    }
   },
   "source": [
    "### Question Bonus : \n",
    "Visualization of basins of attraction (To learn more about the nature of the boundary between basins of attraction:\n",
    "(http://images.math.cnrs.fr/La-methode-de-Newton-et-son.html)):\n",
    "\n",
    "\n",
    "We note $x^\\star(x_0)\\in \\mathbb{C}$ the root to which Newton's algorithm converges from $x_0\\in \\mathbb{C}$. We discretize a zone encompassing the three roots and we assign a color code to each point in the zone, corresponding to the root towards which we converge with Newton starting from this point.\n",
    "\n",
    "Program the following algorithm\n",
    "\n",
    "\n",
    "Input: The function $\\phi: \\mathbb{R}^2\\longrightarrow \\mathbb{R}$, its Jacobian $J\\phi~:\\mathbb{R}^2\\longrightarrow \\mathbb{R}^{2x2}$, Array $r\\in \\mathbb{R}^{2\\times 3}$,~ $\\phi(r_{.,k})=0$, for $k=1,2,3$\n",
    "\n",
    "Results: Figure representing the basins of attraction of the roots of $\\phi$\n",
    "\n",
    "Initialization: $N=5$, $h=1.5/N$ (we can increase $N$ once sure that the program is running)\n",
    "\n",
    "Double loop $m=-N\\nearrow N$, $n=-N\\nearrow N$\n",
    "<ul>\n",
    "      <li>Calculate $x_{m,n}=x^*(mh+inh)$ the Newton Ralphson solution starting from mh+inh</li>\n",
    "      <li>Calculate $C_{m,n}=argmin_{k=1,2,3} ||x_{m,n}-r_{.,k}||^2$</li> \n",
    "</ul>\n",
    "     \n",
    "Use the plt.imshow function to visualize the $C$ matrix (see example below)"
   ]
  },
  {
   "cell_type": "code",
   "execution_count": 18,
   "metadata": {
    "nbgrader": {
     "grade": false,
     "grade_id": "cell-1b72b7d6d1aaef97",
     "locked": true,
     "schema_version": 3,
     "solution": false,
     "task": false
    }
   },
   "outputs": [
    {
     "data": {
      "image/png": "[encoded data removed]",
      "text/plain": [
       "<Figure size 640x480 with 1 Axes>"
      ]
     },
     "metadata": {},
     "output_type": "display_data"
    }
   ],
   "source": [
    "#exemple d'utilisation de imshow\n",
    "import math\n",
    "C=[]\n",
    "for i in range(5):\n",
    "    C.append([])\n",
    "    for j in range(6):\n",
    "        C[i].append(0.6*i+math.sin(4*j))       \n",
    "plt.imshow(C)\n",
    "plt.show()\n",
    "\n"
   ]
  },
  {
   "cell_type": "markdown",
   "metadata": {
    "nbgrader": {
     "grade": false,
     "grade_id": "cell-6511d8055f6cfe83",
     "locked": true,
     "schema_version": 3,
     "solution": false,
     "task": false
    }
   },
   "source": [
    "To find the index of the smallest component of an array you can use the function numpy $where$ as in the exemple below"
   ]
  },
  {
   "cell_type": "code",
   "execution_count": 19,
   "metadata": {
    "nbgrader": {
     "grade": false,
     "grade_id": "cell-0bc1c88b12c47304",
     "locked": true,
     "schema_version": 3,
     "solution": false,
     "task": false
    }
   },
   "outputs": [
    {
     "name": "stdout",
     "output_type": "stream",
     "text": [
      "The closest root to X is root number  1\n"
     ]
    }
   ],
   "source": [
    "# the array Roots has been defined above\n",
    "# we want to find which of the 3 roots is closer to a point X\n",
    "X=np.array([-2,1])\n",
    "# first we compute in p  the 3 distances of X to the roots\n",
    "p=np.linalg.norm(Roots-X,axis=1) \n",
    "# we find the index of p corresponding to the smallest component\n",
    "index=np.where(p==p.min())[0][0]\n",
    "print(\"The closest root to X is root number \",index)\n"
   ]
  },
  {
   "cell_type": "code",
   "execution_count": 29,
   "metadata": {
    "nbgrader": {
     "grade": true,
     "grade_id": "cell-371b950c79fd65d2",
     "locked": false,
     "points": 4,
     "schema_version": 3,
     "solution": true,
     "task": false
    }
   },
   "outputs": [
    {
     "data": {
      "text/plain": [
       "(-1.5, 1.5, -1.5, 1.5)"
      ]
     },
     "execution_count": 29,
     "metadata": {},
     "output_type": "execute_result"
    },
    {
     "data": {
      "image/png": "[encoded data removed]",
      "text/plain": [
       "<Figure size 640x480 with 1 Axes>"
      ]
     },
     "metadata": {},
     "output_type": "display_data"
    }
   ],
   "source": [
    "# Now try to combine all these ingredients to display the basins of attraction of the roots \n",
    "#\n",
    "### BEGIN SOLUTION\n",
    "Roots=np.array([[1,0],[-0.5,3**0.5/2],[-0.5,-3**0.5/2]])\n",
    "eps=1.e-6\n",
    "N=50\n",
    "ext=1.5\n",
    "h=1.5/N\n",
    "C=[]\n",
    "for m in range(-N,N):\n",
    "    C.append([])   \n",
    "    for n in range(-N,N):\n",
    "        X0=[n*h,m*h]\n",
    "        if m==0 and n==0:\n",
    "            Xstar=np.array([0,0])\n",
    "        else:\n",
    "            Xstar,Gstar,nb_iter=NewtonRalphson(X0,eps,phi,Jphi)\n",
    "        #print(X0,Xstar)\n",
    "        p=np.linalg.norm(Roots-Xstar,axis=1)\n",
    "        col=np.where(p==p.min())[0][0]\n",
    "        C[m+N].append(col)\n",
    "#print(C)\n",
    "plt.imshow(C,extent=[-ext,ext,-ext,ext])\n",
    "for r in range(3):\n",
    "    plt.plot(Roots[r][0],Roots[r][1],\"xr\")\n",
    "plt.xlabel('x')\n",
    "plt.ylabel('y')\n",
    "plt.title(r\"Attraction basins of complex roots of $z^3=1$\")\n",
    "plt.axis('equal')\n",
    "### END SOLUTION"
   ]
  },
  {
   "cell_type": "code",
   "execution_count": null,
   "metadata": {},
   "outputs": [],
   "source": []
  },
  {
   "cell_type": "code",
   "execution_count": null,
   "metadata": {},
   "outputs": [],
   "source": []
  },
  {
   "cell_type": "code",
   "execution_count": null,
   "metadata": {},
   "outputs": [],
   "source": []
  }
 ],
 "metadata": {
  "celltoolbar": "Create Assignment",
  "kernelspec": {
   "display_name": "Python 3 (ipykernel)",
   "language": "python",
   "name": "python3"
  },
  "language_info": {
   "codemirror_mode": {
    "name": "ipython",
    "version": 3
   },
   "file_extension": ".py",
   "mimetype": "text/x-python",
   "name": "python",
   "nbconvert_exporter": "python",
   "pygments_lexer": "ipython3",
   "version": "3.10.0"
  }
 },
 "nbformat": 4,
 "nbformat_minor": 4
}
